{
 "cells": [
  {
   "cell_type": "markdown",
   "id": "wooden-hello",
   "metadata": {},
   "source": [
    "## Исследование надёжности заёмщиков\n",
    "\n",
    "**Цель**: проверить гипотезы о клиентах банка для формирования рекомендаций при построении модели кредитного скоринга.\n",
    "\n",
    "Заказчик — кредитный отдел банка. Нужно разобраться, влияет ли семейное положение и количество детей клиента на факт погашения кредита в срок. Входные данные от банка — статистика о платёжеспособности клиентов.\n",
    "\n",
    "Результаты исследования будут учтены при построении модели **кредитного скоринга**.\n",
    "\n",
    "Описание данных:\n",
    "\n",
    "* children — количество детей в семье\n",
    "* days_employed — общий трудовой стаж в днях\n",
    "* ...\n",
    "\n",
    "**Основные этапы исследования**:\n",
    "1. Изучение общей информации о данных\n",
    "2. Предобработка данных: \n",
    "    * дубликаты, \n",
    "    * аномалии, \n",
    "    * ...\n",
    "3. Проверка гипотез:\n",
    "    * \n",
    "    * \n",
    "\n",
    "**Вывод**: ..."
   ]
  },
  {
   "cell_type": "code",
   "execution_count": 11,
   "id": "forward-bookmark",
   "metadata": {},
   "outputs": [],
   "source": [
    "# загрузка ВСЕХ нужных библиотек\n",
    "\n",
    "import pandas as pd\n",
    "from pymystem3 import Mystem\n",
    "from collections import Counter\n",
    "import matplotlib.pyplot as plt"
   ]
  },
  {
   "cell_type": "code",
   "execution_count": 12,
   "id": "strange-section",
   "metadata": {},
   "outputs": [],
   "source": [
    "# загрузка данных\n",
    "\n",
    "data = pd.read_csv('data.csv')"
   ]
  },
  {
   "cell_type": "markdown",
   "id": "comfortable-kidney",
   "metadata": {},
   "source": [
    "### 1. Изучение общей информации о данных"
   ]
  },
  {
   "cell_type": "code",
   "execution_count": 3,
   "id": "dominican-aaron",
   "metadata": {},
   "outputs": [],
   "source": [
    "# head() или sample(), info(), shape(), duplicated(), value_counts(), isnull().sum(),*describe(), *plot(kind='bar')"
   ]
  },
  {
   "cell_type": "markdown",
   "id": "coordinate-rebecca",
   "metadata": {},
   "source": [
    "Рассказать: \n",
    "- что обнаружили, \n",
    "- сделать предположения, почему могло так произойти, \n",
    "- *придумать способы проверки, \n",
    "- *если это возможно, реализовать их в следующих шагах\n",
    "- *зафиксировать возможные рекомендации"
   ]
  },
  {
   "cell_type": "code",
   "execution_count": 4,
   "id": "composite-maple",
   "metadata": {
    "collapsed": true
   },
   "outputs": [
    {
     "data": {
      "text/html": [
       "<div>\n",
       "<style scoped>\n",
       "    .dataframe tbody tr th:only-of-type {\n",
       "        vertical-align: middle;\n",
       "    }\n",
       "\n",
       "    .dataframe tbody tr th {\n",
       "        vertical-align: top;\n",
       "    }\n",
       "\n",
       "    .dataframe thead th {\n",
       "        text-align: right;\n",
       "    }\n",
       "</style>\n",
       "<table border=\"1\" class=\"dataframe\">\n",
       "  <thead>\n",
       "    <tr style=\"text-align: right;\">\n",
       "      <th></th>\n",
       "      <th>children</th>\n",
       "      <th>days_employed</th>\n",
       "      <th>dob_years</th>\n",
       "      <th>education_id</th>\n",
       "      <th>family_status_id</th>\n",
       "      <th>debt</th>\n",
       "      <th>total_income</th>\n",
       "    </tr>\n",
       "  </thead>\n",
       "  <tbody>\n",
       "    <tr>\n",
       "      <th>count</th>\n",
       "      <td>21525.000000</td>\n",
       "      <td>19351.000000</td>\n",
       "      <td>21525.000000</td>\n",
       "      <td>21525.000000</td>\n",
       "      <td>21525.000000</td>\n",
       "      <td>21525.000000</td>\n",
       "      <td>1.935100e+04</td>\n",
       "    </tr>\n",
       "    <tr>\n",
       "      <th>mean</th>\n",
       "      <td>0.538908</td>\n",
       "      <td>63046.497661</td>\n",
       "      <td>43.293380</td>\n",
       "      <td>0.817236</td>\n",
       "      <td>0.972544</td>\n",
       "      <td>0.080883</td>\n",
       "      <td>1.674223e+05</td>\n",
       "    </tr>\n",
       "    <tr>\n",
       "      <th>std</th>\n",
       "      <td>1.381587</td>\n",
       "      <td>140827.311974</td>\n",
       "      <td>12.574584</td>\n",
       "      <td>0.548138</td>\n",
       "      <td>1.420324</td>\n",
       "      <td>0.272661</td>\n",
       "      <td>1.029716e+05</td>\n",
       "    </tr>\n",
       "    <tr>\n",
       "      <th>min</th>\n",
       "      <td>-1.000000</td>\n",
       "      <td>-18388.949901</td>\n",
       "      <td>0.000000</td>\n",
       "      <td>0.000000</td>\n",
       "      <td>0.000000</td>\n",
       "      <td>0.000000</td>\n",
       "      <td>2.066726e+04</td>\n",
       "    </tr>\n",
       "    <tr>\n",
       "      <th>25%</th>\n",
       "      <td>0.000000</td>\n",
       "      <td>-2747.423625</td>\n",
       "      <td>33.000000</td>\n",
       "      <td>1.000000</td>\n",
       "      <td>0.000000</td>\n",
       "      <td>0.000000</td>\n",
       "      <td>1.030532e+05</td>\n",
       "    </tr>\n",
       "    <tr>\n",
       "      <th>50%</th>\n",
       "      <td>0.000000</td>\n",
       "      <td>-1203.369529</td>\n",
       "      <td>42.000000</td>\n",
       "      <td>1.000000</td>\n",
       "      <td>0.000000</td>\n",
       "      <td>0.000000</td>\n",
       "      <td>1.450179e+05</td>\n",
       "    </tr>\n",
       "    <tr>\n",
       "      <th>75%</th>\n",
       "      <td>1.000000</td>\n",
       "      <td>-291.095954</td>\n",
       "      <td>53.000000</td>\n",
       "      <td>1.000000</td>\n",
       "      <td>1.000000</td>\n",
       "      <td>0.000000</td>\n",
       "      <td>2.034351e+05</td>\n",
       "    </tr>\n",
       "    <tr>\n",
       "      <th>max</th>\n",
       "      <td>20.000000</td>\n",
       "      <td>401755.400475</td>\n",
       "      <td>75.000000</td>\n",
       "      <td>4.000000</td>\n",
       "      <td>4.000000</td>\n",
       "      <td>1.000000</td>\n",
       "      <td>2.265604e+06</td>\n",
       "    </tr>\n",
       "  </tbody>\n",
       "</table>\n",
       "</div>"
      ],
      "text/plain": [
       "           children  days_employed     dob_years  education_id  \\\n",
       "count  21525.000000   19351.000000  21525.000000  21525.000000   \n",
       "mean       0.538908   63046.497661     43.293380      0.817236   \n",
       "std        1.381587  140827.311974     12.574584      0.548138   \n",
       "min       -1.000000  -18388.949901      0.000000      0.000000   \n",
       "25%        0.000000   -2747.423625     33.000000      1.000000   \n",
       "50%        0.000000   -1203.369529     42.000000      1.000000   \n",
       "75%        1.000000    -291.095954     53.000000      1.000000   \n",
       "max       20.000000  401755.400475     75.000000      4.000000   \n",
       "\n",
       "       family_status_id          debt  total_income  \n",
       "count      21525.000000  21525.000000  1.935100e+04  \n",
       "mean           0.972544      0.080883  1.674223e+05  \n",
       "std            1.420324      0.272661  1.029716e+05  \n",
       "min            0.000000      0.000000  2.066726e+04  \n",
       "25%            0.000000      0.000000  1.030532e+05  \n",
       "50%            0.000000      0.000000  1.450179e+05  \n",
       "75%            1.000000      0.000000  2.034351e+05  \n",
       "max            4.000000      1.000000  2.265604e+06  "
      ]
     },
     "execution_count": 4,
     "metadata": {},
     "output_type": "execute_result"
    }
   ],
   "source": [
    "data.describe() "
   ]
  },
  {
   "cell_type": "code",
   "execution_count": 16,
   "id": "published-abraham",
   "metadata": {
    "collapsed": true
   },
   "outputs": [
    {
     "data": {
      "text/html": [
       "<div>\n",
       "<style scoped>\n",
       "    .dataframe tbody tr th:only-of-type {\n",
       "        vertical-align: middle;\n",
       "    }\n",
       "\n",
       "    .dataframe tbody tr th {\n",
       "        vertical-align: top;\n",
       "    }\n",
       "\n",
       "    .dataframe thead th {\n",
       "        text-align: right;\n",
       "    }\n",
       "</style>\n",
       "<table border=\"1\" class=\"dataframe\">\n",
       "  <thead>\n",
       "    <tr style=\"text-align: right;\">\n",
       "      <th></th>\n",
       "      <th>children</th>\n",
       "      <th>days_employed</th>\n",
       "      <th>dob_years</th>\n",
       "      <th>education</th>\n",
       "      <th>education_id</th>\n",
       "      <th>family_status</th>\n",
       "      <th>family_status_id</th>\n",
       "      <th>gender</th>\n",
       "      <th>income_type</th>\n",
       "      <th>debt</th>\n",
       "      <th>total_income</th>\n",
       "      <th>purpose</th>\n",
       "    </tr>\n",
       "  </thead>\n",
       "  <tbody>\n",
       "    <tr>\n",
       "      <th>19321</th>\n",
       "      <td>0</td>\n",
       "      <td>NaN</td>\n",
       "      <td>23</td>\n",
       "      <td>среднее</td>\n",
       "      <td>1</td>\n",
       "      <td>Не женат / не замужем</td>\n",
       "      <td>4</td>\n",
       "      <td>F</td>\n",
       "      <td>сотрудник</td>\n",
       "      <td>0</td>\n",
       "      <td>NaN</td>\n",
       "      <td>сделка с подержанным автомобилем</td>\n",
       "    </tr>\n",
       "    <tr>\n",
       "      <th>15892</th>\n",
       "      <td>0</td>\n",
       "      <td>NaN</td>\n",
       "      <td>23</td>\n",
       "      <td>среднее</td>\n",
       "      <td>1</td>\n",
       "      <td>Не женат / не замужем</td>\n",
       "      <td>4</td>\n",
       "      <td>F</td>\n",
       "      <td>сотрудник</td>\n",
       "      <td>0</td>\n",
       "      <td>NaN</td>\n",
       "      <td>сделка с подержанным автомобилем</td>\n",
       "    </tr>\n",
       "    <tr>\n",
       "      <th>18328</th>\n",
       "      <td>0</td>\n",
       "      <td>NaN</td>\n",
       "      <td>29</td>\n",
       "      <td>высшее</td>\n",
       "      <td>0</td>\n",
       "      <td>женат / замужем</td>\n",
       "      <td>0</td>\n",
       "      <td>M</td>\n",
       "      <td>сотрудник</td>\n",
       "      <td>0</td>\n",
       "      <td>NaN</td>\n",
       "      <td>покупка жилой недвижимости</td>\n",
       "    </tr>\n",
       "    <tr>\n",
       "      <th>3452</th>\n",
       "      <td>0</td>\n",
       "      <td>NaN</td>\n",
       "      <td>29</td>\n",
       "      <td>высшее</td>\n",
       "      <td>0</td>\n",
       "      <td>женат / замужем</td>\n",
       "      <td>0</td>\n",
       "      <td>M</td>\n",
       "      <td>сотрудник</td>\n",
       "      <td>0</td>\n",
       "      <td>NaN</td>\n",
       "      <td>покупка жилой недвижимости</td>\n",
       "    </tr>\n",
       "    <tr>\n",
       "      <th>8629</th>\n",
       "      <td>1</td>\n",
       "      <td>NaN</td>\n",
       "      <td>30</td>\n",
       "      <td>высшее</td>\n",
       "      <td>0</td>\n",
       "      <td>женат / замужем</td>\n",
       "      <td>0</td>\n",
       "      <td>F</td>\n",
       "      <td>сотрудник</td>\n",
       "      <td>0</td>\n",
       "      <td>NaN</td>\n",
       "      <td>покупка коммерческой недвижимости</td>\n",
       "    </tr>\n",
       "    <tr>\n",
       "      <th>...</th>\n",
       "      <td>...</td>\n",
       "      <td>...</td>\n",
       "      <td>...</td>\n",
       "      <td>...</td>\n",
       "      <td>...</td>\n",
       "      <td>...</td>\n",
       "      <td>...</td>\n",
       "      <td>...</td>\n",
       "      <td>...</td>\n",
       "      <td>...</td>\n",
       "      <td>...</td>\n",
       "      <td>...</td>\n",
       "    </tr>\n",
       "    <tr>\n",
       "      <th>13639</th>\n",
       "      <td>0</td>\n",
       "      <td>NaN</td>\n",
       "      <td>64</td>\n",
       "      <td>среднее</td>\n",
       "      <td>1</td>\n",
       "      <td>женат / замужем</td>\n",
       "      <td>0</td>\n",
       "      <td>F</td>\n",
       "      <td>пенсионер</td>\n",
       "      <td>0</td>\n",
       "      <td>NaN</td>\n",
       "      <td>автомобиль</td>\n",
       "    </tr>\n",
       "    <tr>\n",
       "      <th>3609</th>\n",
       "      <td>0</td>\n",
       "      <td>NaN</td>\n",
       "      <td>64</td>\n",
       "      <td>среднее</td>\n",
       "      <td>1</td>\n",
       "      <td>женат / замужем</td>\n",
       "      <td>0</td>\n",
       "      <td>F</td>\n",
       "      <td>пенсионер</td>\n",
       "      <td>0</td>\n",
       "      <td>NaN</td>\n",
       "      <td>жилье</td>\n",
       "    </tr>\n",
       "    <tr>\n",
       "      <th>12389</th>\n",
       "      <td>0</td>\n",
       "      <td>NaN</td>\n",
       "      <td>64</td>\n",
       "      <td>среднее</td>\n",
       "      <td>1</td>\n",
       "      <td>женат / замужем</td>\n",
       "      <td>0</td>\n",
       "      <td>F</td>\n",
       "      <td>пенсионер</td>\n",
       "      <td>0</td>\n",
       "      <td>NaN</td>\n",
       "      <td>дополнительное образование</td>\n",
       "    </tr>\n",
       "    <tr>\n",
       "      <th>5865</th>\n",
       "      <td>0</td>\n",
       "      <td>NaN</td>\n",
       "      <td>66</td>\n",
       "      <td>среднее</td>\n",
       "      <td>1</td>\n",
       "      <td>вдовец / вдова</td>\n",
       "      <td>2</td>\n",
       "      <td>F</td>\n",
       "      <td>пенсионер</td>\n",
       "      <td>0</td>\n",
       "      <td>NaN</td>\n",
       "      <td>операции со своей недвижимостью</td>\n",
       "    </tr>\n",
       "    <tr>\n",
       "      <th>9528</th>\n",
       "      <td>0</td>\n",
       "      <td>NaN</td>\n",
       "      <td>66</td>\n",
       "      <td>среднее</td>\n",
       "      <td>1</td>\n",
       "      <td>вдовец / вдова</td>\n",
       "      <td>2</td>\n",
       "      <td>F</td>\n",
       "      <td>пенсионер</td>\n",
       "      <td>0</td>\n",
       "      <td>NaN</td>\n",
       "      <td>операции со своей недвижимостью</td>\n",
       "    </tr>\n",
       "  </tbody>\n",
       "</table>\n",
       "<p>106 rows × 12 columns</p>\n",
       "</div>"
      ],
      "text/plain": [
       "       children  days_employed  dob_years education  education_id  \\\n",
       "19321         0            NaN         23   среднее             1   \n",
       "15892         0            NaN         23   среднее             1   \n",
       "18328         0            NaN         29    высшее             0   \n",
       "3452          0            NaN         29    высшее             0   \n",
       "8629          1            NaN         30    высшее             0   \n",
       "...         ...            ...        ...       ...           ...   \n",
       "13639         0            NaN         64   среднее             1   \n",
       "3609          0            NaN         64   среднее             1   \n",
       "12389         0            NaN         64   среднее             1   \n",
       "5865          0            NaN         66   среднее             1   \n",
       "9528          0            NaN         66   среднее             1   \n",
       "\n",
       "               family_status  family_status_id gender income_type  debt  \\\n",
       "19321  Не женат / не замужем                 4      F   сотрудник     0   \n",
       "15892  Не женат / не замужем                 4      F   сотрудник     0   \n",
       "18328        женат / замужем                 0      M   сотрудник     0   \n",
       "3452         женат / замужем                 0      M   сотрудник     0   \n",
       "8629         женат / замужем                 0      F   сотрудник     0   \n",
       "...                      ...               ...    ...         ...   ...   \n",
       "13639        женат / замужем                 0      F   пенсионер     0   \n",
       "3609         женат / замужем                 0      F   пенсионер     0   \n",
       "12389        женат / замужем                 0      F   пенсионер     0   \n",
       "5865          вдовец / вдова                 2      F   пенсионер     0   \n",
       "9528          вдовец / вдова                 2      F   пенсионер     0   \n",
       "\n",
       "       total_income                            purpose  \n",
       "19321           NaN   сделка с подержанным автомобилем  \n",
       "15892           NaN   сделка с подержанным автомобилем  \n",
       "18328           NaN         покупка жилой недвижимости  \n",
       "3452            NaN         покупка жилой недвижимости  \n",
       "8629            NaN  покупка коммерческой недвижимости  \n",
       "...             ...                                ...  \n",
       "13639           NaN                         автомобиль  \n",
       "3609            NaN                              жилье  \n",
       "12389           NaN         дополнительное образование  \n",
       "5865            NaN    операции со своей недвижимостью  \n",
       "9528            NaN    операции со своей недвижимостью  \n",
       "\n",
       "[106 rows x 12 columns]"
      ]
     },
     "execution_count": 16,
     "metadata": {},
     "output_type": "execute_result"
    }
   ],
   "source": [
    "# посмотреть на дубли\n",
    "\n",
    "data[data.duplicated(keep=False)].sort_values(['dob_years'])"
   ]
  },
  {
   "cell_type": "code",
   "execution_count": 7,
   "id": "powerful-brook",
   "metadata": {},
   "outputs": [],
   "source": [
    "# исследуем отдельно проблемные строки\n",
    "\n",
    "data_isnull = data[data['total_income'].isnull()]"
   ]
  },
  {
   "cell_type": "code",
   "execution_count": 6,
   "id": "nuclear-roberts",
   "metadata": {},
   "outputs": [
    {
     "data": {
      "text/plain": [
       "2174"
      ]
     },
     "execution_count": 6,
     "metadata": {},
     "output_type": "execute_result"
    }
   ],
   "source": [
    "# проверка предположения о симметричности пропусков\n",
    "\n",
    "data[data['days_employed'].isna() & data['total_income'].isna()].shape[0]"
   ]
  },
  {
   "cell_type": "code",
   "execution_count": 8,
   "id": "noticed-trance",
   "metadata": {},
   "outputs": [],
   "source": [
    "# value_counts() по каждому интересному признаку"
   ]
  },
  {
   "cell_type": "code",
   "execution_count": 9,
   "id": "portable-collect",
   "metadata": {},
   "outputs": [],
   "source": [
    "# принимаем решение, как именно мы будем проводить обработку, почему именно так, *зафиксировать рекомендации"
   ]
  },
  {
   "cell_type": "markdown",
   "id": "later-robert",
   "metadata": {},
   "source": [
    "...\n",
    "\n",
    "**Промежуточный вывод**\n",
    "\n",
    "- **children** Присутствует 47 отрицательных значений с \"-1\", а также аномалия в виде 20 детей ...\n",
    "- **days_employed** Большая часть данных стобца со знаком \"-\". Однако, эти данные представляют из себя 84% всей выборки. ... будут заменены на медиану исходя из определенного критерия, который будет описан далее. \n",
    "    - Причины пропущенных значений в столбцах **days_employed** и **income**:\n",
    "        - Во-первых, это может быть из-за неправильной выгрузки данных. Оставим это предположение до того момента, пока не убедимся в неверности других предположений.**Наиболее вероятно**\n",
    "        - Во-вторых, одной из гипотез было предположение об отсутствии трудового опыта у данной части выборки. Однако, если распределение по возрасту в данной группе равномерное по всем возрастам выборки. Также большая доля этой части выборки трудоустроена. **Гипотеза не подтверждена**\n",
    "        - В-третьих, возможно, что эта часть выборки не имеет официального трудоустройства. Данная гипотеза вызывает сомнение в связи с тем, что при наличии достаточно большого стажа работы у представителей выборки у ее представителей нет официального трудового стажа. К тому же 18.9% данной выборки являются госслужащими. **Гипотез не подтверждена**\n",
    "- **age** .. 0 возраст у 101 человека.\n",
    "- **education & education_id** Необходимо будет привести данную категорийнуй переменную к общему виду. Избавиться от разного регистра. Но можно не тратить на это время и использовать следующий столбец **education_id**. Это позволит использовать меньше памяти и не повлияет на качество анализа.\n",
    "- ..."
   ]
  },
  {
   "cell_type": "markdown",
   "id": "future-lobby",
   "metadata": {},
   "source": [
    "### 2. Предобработка данных"
   ]
  },
  {
   "cell_type": "code",
   "execution_count": 10,
   "id": "aerial-aircraft",
   "metadata": {},
   "outputs": [],
   "source": [
    "# последовательность действий"
   ]
  },
  {
   "cell_type": "code",
   "execution_count": 11,
   "id": "silver-finland",
   "metadata": {},
   "outputs": [],
   "source": [
    "# замена типа astype(), приведение к нижнему регистру str.lower(), удаление аномалий, категоризация (?), словари (?)"
   ]
  },
  {
   "cell_type": "code",
   "execution_count": 12,
   "id": "dried-general",
   "metadata": {},
   "outputs": [],
   "source": [
    "# что-то изменили - > посмотрели не изменилось ли количество дублей"
   ]
  },
  {
   "cell_type": "code",
   "execution_count": null,
   "id": "composite-world",
   "metadata": {},
   "outputs": [],
   "source": [
    "# обработка пустых значений\n",
    "\n",
    "data['total_income'].fillna(data.groupby(['age_group','education','gender'])['total_income'].transform('median'))"
   ]
  },
  {
   "cell_type": "code",
   "execution_count": null,
   "id": "dedicated-ethnic",
   "metadata": {},
   "outputs": [],
   "source": [
    "# категории: \"на глазок\", value_counts(), функция, пандаметод"
   ]
  },
  {
   "cell_type": "code",
   "execution_count": null,
   "id": "norman-partnership",
   "metadata": {},
   "outputs": [],
   "source": [
    "def income_group(income):\n",
    "    '''\n",
    "    Распределение по уровням дохода\n",
    "    :param income: доход заёмщика\n",
    "    :return: название категории по уровню дохода\n",
    "    '''\n",
    "    try:\n",
    "        if income <= data['total_income'].quantile(.25).astype('int'):\n",
    "            return 'низкий доход'\n",
    "        if data['total_income'].quantile(.25).astype('int') < income <= data['total_income'].quantile(.75).astype('int'):\n",
    "            return 'средний доход'\n",
    "        if income > data['total_income'].quantile(.75).astype('int'):\n",
    "            return 'высокий доход'\n",
    "    except:\n",
    "        return 'ошибка'"
   ]
  },
  {
   "cell_type": "code",
   "execution_count": null,
   "id": "prescription-scoop",
   "metadata": {},
   "outputs": [],
   "source": [
    "# проверим работоспособность функции\n",
    "\n",
    "income_group(20000)"
   ]
  },
  {
   "cell_type": "code",
   "execution_count": null,
   "id": "becoming-mining",
   "metadata": {},
   "outputs": [],
   "source": [
    "# вариант \n",
    "\n",
    "pd.qcut(data['total_income'], 4, ['очень низкий доход', 'низкий доход', 'средний доход', 'высокий доход'])"
   ]
  },
  {
   "cell_type": "code",
   "execution_count": 17,
   "id": "computational-twenty",
   "metadata": {},
   "outputs": [],
   "source": [
    "# словари\n",
    "\n",
    "educ_dict = data[['education_id', 'education']]\n",
    "educ_dict = educ_dict.drop_duplicates().reset_index(drop=True)"
   ]
  },
  {
   "cell_type": "markdown",
   "id": "olive-accordance",
   "metadata": {},
   "source": [
    "**Промежуточный вывод**\n",
    "- ...\n",
    "- ...\n",
    "- ..."
   ]
  },
  {
   "cell_type": "markdown",
   "id": "cleared-latest",
   "metadata": {},
   "source": [
    "### 3. Ответы на вопросы"
   ]
  },
  {
   "cell_type": "markdown",
   "id": "ordinary-avatar",
   "metadata": {},
   "source": [
    "- **Есть ли зависимость между семейным положением и возвратом кредита в срок?**"
   ]
  },
  {
   "cell_type": "code",
   "execution_count": 22,
   "id": "distinguished-milton",
   "metadata": {
    "collapsed": true
   },
   "outputs": [
    {
     "data": {
      "text/html": [
       "<div>\n",
       "<style scoped>\n",
       "    .dataframe tbody tr th:only-of-type {\n",
       "        vertical-align: middle;\n",
       "    }\n",
       "\n",
       "    .dataframe tbody tr th {\n",
       "        vertical-align: top;\n",
       "    }\n",
       "\n",
       "    .dataframe thead th {\n",
       "        text-align: right;\n",
       "    }\n",
       "</style>\n",
       "<table border=\"1\" class=\"dataframe\">\n",
       "  <thead>\n",
       "    <tr style=\"text-align: right;\">\n",
       "      <th></th>\n",
       "      <th>debt</th>\n",
       "    </tr>\n",
       "    <tr>\n",
       "      <th>family_status</th>\n",
       "      <th></th>\n",
       "    </tr>\n",
       "  </thead>\n",
       "  <tbody>\n",
       "    <tr>\n",
       "      <th>вдовец / вдова</th>\n",
       "      <td>0.065625</td>\n",
       "    </tr>\n",
       "    <tr>\n",
       "      <th>в разводе</th>\n",
       "      <td>0.071130</td>\n",
       "    </tr>\n",
       "    <tr>\n",
       "      <th>женат / замужем</th>\n",
       "      <td>0.075202</td>\n",
       "    </tr>\n",
       "    <tr>\n",
       "      <th>гражданский брак</th>\n",
       "      <td>0.092890</td>\n",
       "    </tr>\n",
       "    <tr>\n",
       "      <th>Не женат / не замужем</th>\n",
       "      <td>0.097405</td>\n",
       "    </tr>\n",
       "  </tbody>\n",
       "</table>\n",
       "</div>"
      ],
      "text/plain": [
       "                           debt\n",
       "family_status                  \n",
       "вдовец / вдова         0.065625\n",
       "в разводе              0.071130\n",
       "женат / замужем        0.075202\n",
       "гражданский брак       0.092890\n",
       "Не женат / не замужем  0.097405"
      ]
     },
     "execution_count": 22,
     "metadata": {},
     "output_type": "execute_result"
    }
   ],
   "source": [
    "data.groupby(['family_status']).agg({'debt':'mean'}).sort_values(['debt'])"
   ]
  },
  {
   "cell_type": "code",
   "execution_count": 25,
   "id": "functional-essay",
   "metadata": {},
   "outputs": [
    {
     "data": {
      "text/html": [
       "<style  type=\"text/css\" >\n",
       "</style><table id=\"T_28aad_\" ><thead>    <tr>        <th class=\"blank level0\" ></th>        <th class=\"col_heading level0 col0\" >debt</th>    </tr>    <tr>        <th class=\"index_name level0\" >family_status</th>        <th class=\"blank\" ></th>    </tr></thead><tbody>\n",
       "                <tr>\n",
       "                        <th id=\"T_28aad_level0_row0\" class=\"row_heading level0 row0\" >вдовец / вдова</th>\n",
       "                        <td id=\"T_28aad_row0_col0\" class=\"data row0 col0\" >6.56%</td>\n",
       "            </tr>\n",
       "            <tr>\n",
       "                        <th id=\"T_28aad_level0_row1\" class=\"row_heading level0 row1\" >в разводе</th>\n",
       "                        <td id=\"T_28aad_row1_col0\" class=\"data row1 col0\" >7.11%</td>\n",
       "            </tr>\n",
       "            <tr>\n",
       "                        <th id=\"T_28aad_level0_row2\" class=\"row_heading level0 row2\" >женат / замужем</th>\n",
       "                        <td id=\"T_28aad_row2_col0\" class=\"data row2 col0\" >7.52%</td>\n",
       "            </tr>\n",
       "            <tr>\n",
       "                        <th id=\"T_28aad_level0_row3\" class=\"row_heading level0 row3\" >гражданский брак</th>\n",
       "                        <td id=\"T_28aad_row3_col0\" class=\"data row3 col0\" >9.29%</td>\n",
       "            </tr>\n",
       "            <tr>\n",
       "                        <th id=\"T_28aad_level0_row4\" class=\"row_heading level0 row4\" >Не женат / не замужем</th>\n",
       "                        <td id=\"T_28aad_row4_col0\" class=\"data row4 col0\" >9.74%</td>\n",
       "            </tr>\n",
       "    </tbody></table>"
      ],
      "text/plain": [
       "<pandas.io.formats.style.Styler at 0x15dbe0ba370>"
      ]
     },
     "execution_count": 25,
     "metadata": {},
     "output_type": "execute_result"
    }
   ],
   "source": [
    "data.groupby('family_status')[['debt']].mean().sort_values(['debt']).style.format({'debt': '{:.2%}'})"
   ]
  },
  {
   "cell_type": "markdown",
   "id": "accurate-hollow",
   "metadata": {},
   "source": [
    "**Промежуточный вывод**\n",
    "- Клиенты, которые не состоят в официальном браке, могут чаще не отдавать кредитные средства (доля должников на 2 и более процентных пункта выше, чем у остальных клиентов).\n",
    "- ...\n",
    "- ..."
   ]
  },
  {
   "cell_type": "markdown",
   "id": "pharmaceutical-adaptation",
   "metadata": {},
   "source": [
    "### 4. Вывод"
   ]
  },
  {
   "cell_type": "markdown",
   "id": "weekly-victim",
   "metadata": {},
   "source": [
    "**Удалось подтвердить гипотезу** о влиянии различных характеристик клиента на факт погашения кредита в срок. Каждый из рассмотренных параметров оказывает влияние на надёжность заёмщика. Рассмотренные факторы по-разному влияют на надёжность заёмщиков. Например, семейное положение оказалось более значимым фактором, чем уровень дохода.\n",
    "\n",
    "**Зависимость между рассмотренным параметром и возвратом кредита в срок**  \n",
    "*(коэффициенты в порядке убывания надёжности / возрастания рисков для банка)*  \n",
    "  \n",
    "\n",
    "1. **Наличие и количество детей:**  \n",
    "\n",
    "|Количество детей|Коэффициент надёжности|\n",
    "|:----|:----|\n",
    "|нет детей|0.075465|\n",
    "|многодетные|0.081579|\n",
    "|1 ребенок|0.091471|\n",
    "|2 ребенка|0.094499|  \n",
    "  \n",
    "...\n",
    "\n",
    "Полученные данные о связи различных факторов с фактом погашения кредита в срок рекомендуется использовать при построении модели кредитного скоринга в сочетании с другими доступными параметрами.  "
   ]
  },
  {
   "cell_type": "markdown",
   "id": "ruled-penny",
   "metadata": {},
   "source": [
    "- В ходе анализа исходного набора данных было проведено (были устранены пропуски в двух колонках с числовыми значениями - 'total_income' и 'days_employed').  \n",
    "- После __устранения явных и скрытых дупликатов__ и удаления оставшихся после обогащения пропусков объем датасета сократился на 0.05%\n",
    "- Были устранены __выбросы__ в колонках 'days_employed' и 'children': в первом случае выбросы возникли в результате системной ошибки (данные были внесены в часах, а не в днях); во втором случае ошибка, вероятнее всего была допущена людьми, вносившими данные в систему\n",
    "- ..."
   ]
  },
  {
   "cell_type": "markdown",
   "id": "alleged-strand",
   "metadata": {},
   "source": [
    "**Необходимо**"
   ]
  },
  {
   "cell_type": "markdown",
   "id": "critical-worker",
   "metadata": {},
   "source": [
    "1. Запросить в отделе по работе с клиентами информацию о возможности брать кредит без подтверждения дохода. \n",
    "\n",
    "2. Сообщить коллегам, занимающимся выгрузкой о наличие дубликатов, если вопрос не разрешится, запросить индентификационный номер клиента к датасету.\n",
    "\n",
    "3. Прописать в задаче на поставку данных формат данных (пол только F и M, положительные значения). Приложить информацию о найденных аномалиях."
   ]
  },
  {
   "cell_type": "code",
   "execution_count": null,
   "id": "known-thong",
   "metadata": {},
   "outputs": [],
   "source": []
  },
  {
   "cell_type": "code",
   "execution_count": null,
   "id": "considered-miller",
   "metadata": {},
   "outputs": [],
   "source": []
  },
  {
   "cell_type": "code",
   "execution_count": null,
   "id": "known-perception",
   "metadata": {},
   "outputs": [],
   "source": [
    "# лемматизация\n",
    "\n",
    "unique_purpose = data['purpose'].unique()"
   ]
  },
  {
   "cell_type": "code",
   "execution_count": null,
   "id": "elementary-ceremony",
   "metadata": {},
   "outputs": [],
   "source": [
    "lemmas_list = []\n",
    "m = Mystem()\n",
    "for purpose in unique_purpose:\n",
    "    lemmas = ''.join(m.lemmatize(purpose)).strip()\n",
    "    lemmas_list.append(lemmas)"
   ]
  },
  {
   "cell_type": "markdown",
   "id": "generous-eight",
   "metadata": {},
   "source": [
    "Выделяются группы:\n",
    "- операции с автомобилем (ключевое слово - автомобиль)\n",
    "- операции с недвижимостью (ключевые слова: жилье, недвижимость)\n",
    "- проведение свадьбы (ключевое слово: свадьба)\n",
    "- получение образования (ключевое слово: образование)"
   ]
  },
  {
   "cell_type": "code",
   "execution_count": null,
   "id": "novel-chicago",
   "metadata": {},
   "outputs": [],
   "source": [
    "# Функция для назначения категории цели\n",
    "\n",
    "def create_category_purpose(row):\n",
    "    lem_purpose = m.lemmatize(row['purpose'])\n",
    "    try:\n",
    "        if 'автомобиль' in lem_purpose:\n",
    "            return 'операции с автомобилем'\n",
    "        if ('жилье' in lem_purpose) or ('недвижимость' in lem_purpose ):\n",
    "            return 'операции с недвижимостью'\n",
    "        if 'свадьба' in lem_purpose:\n",
    "            return 'проведение свадьбы'\n",
    "        if 'образование' in lem_purpose:\n",
    "            return 'получение образования'\n",
    "    except:\n",
    "        return 'нет категории'"
   ]
  }
 ],
 "metadata": {
  "kernelspec": {
   "display_name": "Python 3.7.1 64-bit",
   "language": "python",
   "name": "python3"
  },
  "language_info": {
   "codemirror_mode": {
    "name": "ipython",
    "version": 3
   },
   "file_extension": ".py",
   "mimetype": "text/x-python",
   "name": "python",
   "nbconvert_exporter": "python",
   "pygments_lexer": "ipython3",
   "version": "3.7.1"
  },
  "vscode": {
   "interpreter": {
    "hash": "fbe58ca63fe33f9eeae9e71d10368d2b4a57f2b1b395836210cc60d362c66949"
   }
  }
 },
 "nbformat": 4,
 "nbformat_minor": 5
}
