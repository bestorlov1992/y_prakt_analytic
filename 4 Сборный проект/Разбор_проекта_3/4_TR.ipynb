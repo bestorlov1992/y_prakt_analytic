{
 "cells": [
  {
   "cell_type": "markdown",
   "id": "corresponding-clinton",
   "metadata": {},
   "source": [
    "# Определение перспективного тарифа для телеком компании"
   ]
  },
  {
   "cell_type": "code",
   "execution_count": 1,
   "id": "ordered-perry",
   "metadata": {},
   "outputs": [],
   "source": [
    "import pandas as pd"
   ]
  },
  {
   "cell_type": "code",
   "execution_count": 2,
   "id": "urban-preliminary",
   "metadata": {},
   "outputs": [],
   "source": [
    "# Загрузка файлов \n",
    "\n",
    "datasets = ['calls', 'internet', 'messages', 'tariffs', 'users']\n",
    "dfs = {}\n",
    "for dataset in datasets:\n",
    "    dfs[dataset] = pd.read_csv('datasets/' + dataset + '.csv')"
   ]
  },
  {
   "cell_type": "code",
   "execution_count": null,
   "id": "fatal-china",
   "metadata": {},
   "outputs": [],
   "source": []
  },
  {
   "cell_type": "code",
   "execution_count": 3,
   "id": "judicial-hollow",
   "metadata": {},
   "outputs": [
    {
     "name": "stdout",
     "output_type": "stream",
     "text": [
      "Датасет    Колонок        Строк\n",
      "calls            4       202607\n",
      "internet         4       149396\n",
      "messages         3       123036\n",
      "tariffs          8            2\n",
      "users            8          500\n"
     ]
    }
   ],
   "source": [
    "print('{:10} {:>7} {:>12}'.format('Датасет', 'Колонок', 'Строк'))\n",
    "for name, df in dfs.items(): #возвращает пары (ключ, значение)\n",
    "    print('{:10} {:7} {:12}'.format(name, df.shape[1], df.shape[0]))"
   ]
  },
  {
   "cell_type": "markdown",
   "id": "blocked-homework",
   "metadata": {},
   "source": [
    "Пустых фреймов нет. Число строк в tariffs и users соответствует описанию. Число строк в остальных датасетах значительное - соответствует целям анализа."
   ]
  },
  {
   "cell_type": "code",
   "execution_count": 4,
   "id": "boring-bridges",
   "metadata": {},
   "outputs": [
    {
     "name": "stdout",
     "output_type": "stream",
     "text": [
      " -----\n",
      "|calls|\n",
      " -----\n",
      "<class 'pandas.core.frame.DataFrame'>\n",
      "RangeIndex: 202607 entries, 0 to 202606\n",
      "Data columns (total 4 columns):\n",
      " #   Column     Non-Null Count   Dtype  \n",
      "---  ------     --------------   -----  \n",
      " 0   id         202607 non-null  object \n",
      " 1   call_date  202607 non-null  object \n",
      " 2   duration   202607 non-null  float64\n",
      " 3   user_id    202607 non-null  int64  \n",
      "dtypes: float64(1), int64(1), object(2)\n",
      "memory usage: 6.2+ MB\n",
      "None\n",
      "\n",
      " --------\n",
      "|internet|\n",
      " --------\n",
      "<class 'pandas.core.frame.DataFrame'>\n",
      "RangeIndex: 149396 entries, 0 to 149395\n",
      "Data columns (total 4 columns):\n",
      " #   Column        Non-Null Count   Dtype  \n",
      "---  ------        --------------   -----  \n",
      " 0   id            149396 non-null  object \n",
      " 1   mb_used       149396 non-null  float64\n",
      " 2   session_date  149396 non-null  object \n",
      " 3   user_id       149396 non-null  int64  \n",
      "dtypes: float64(1), int64(1), object(2)\n",
      "memory usage: 4.6+ MB\n",
      "None\n",
      "\n",
      " --------\n",
      "|messages|\n",
      " --------\n",
      "<class 'pandas.core.frame.DataFrame'>\n",
      "RangeIndex: 123036 entries, 0 to 123035\n",
      "Data columns (total 3 columns):\n",
      " #   Column        Non-Null Count   Dtype \n",
      "---  ------        --------------   ----- \n",
      " 0   id            123036 non-null  object\n",
      " 1   message_date  123036 non-null  object\n",
      " 2   user_id       123036 non-null  int64 \n",
      "dtypes: int64(1), object(2)\n",
      "memory usage: 2.8+ MB\n",
      "None\n",
      "\n",
      " -------\n",
      "|tariffs|\n",
      " -------\n",
      "<class 'pandas.core.frame.DataFrame'>\n",
      "RangeIndex: 2 entries, 0 to 1\n",
      "Data columns (total 8 columns):\n",
      " #   Column                 Non-Null Count  Dtype \n",
      "---  ------                 --------------  ----- \n",
      " 0   messages_included      2 non-null      int64 \n",
      " 1   mb_per_month_included  2 non-null      int64 \n",
      " 2   minutes_included       2 non-null      int64 \n",
      " 3   rub_monthly_fee        2 non-null      int64 \n",
      " 4   rub_per_gb             2 non-null      int64 \n",
      " 5   rub_per_message        2 non-null      int64 \n",
      " 6   rub_per_minute         2 non-null      int64 \n",
      " 7   tariff_name            2 non-null      object\n",
      "dtypes: int64(7), object(1)\n",
      "memory usage: 256.0+ bytes\n",
      "None\n",
      "\n",
      " -----\n",
      "|users|\n",
      " -----\n",
      "<class 'pandas.core.frame.DataFrame'>\n",
      "RangeIndex: 500 entries, 0 to 499\n",
      "Data columns (total 8 columns):\n",
      " #   Column      Non-Null Count  Dtype \n",
      "---  ------      --------------  ----- \n",
      " 0   user_id     500 non-null    int64 \n",
      " 1   age         500 non-null    int64 \n",
      " 2   churn_date  38 non-null     object\n",
      " 3   city        500 non-null    object\n",
      " 4   first_name  500 non-null    object\n",
      " 5   last_name   500 non-null    object\n",
      " 6   reg_date    500 non-null    object\n",
      " 7   tariff      500 non-null    object\n",
      "dtypes: int64(2), object(6)\n",
      "memory usage: 31.4+ KB\n",
      "None\n",
      "\n"
     ]
    }
   ],
   "source": [
    "for key, value in dfs.items():\n",
    "    print(' ' + '-' * len(key))\n",
    "    print('|' + key + '|')\n",
    "    print(' ' + '-' * len(key))\n",
    "    print(value.info())\n",
    "    print()"
   ]
  },
  {
   "cell_type": "markdown",
   "id": "integral-intellectual",
   "metadata": {},
   "source": [
    "## Предобработка данных"
   ]
  },
  {
   "cell_type": "code",
   "execution_count": 2,
   "id": "recognized-passenger",
   "metadata": {},
   "outputs": [],
   "source": [
    "#здесь должна была быть фукнция предобработки"
   ]
  },
  {
   "cell_type": "code",
   "execution_count": 9,
   "id": "generic-buying",
   "metadata": {},
   "outputs": [],
   "source": [
    "dfs_calls = dfs['calls']\n",
    "dfs_calls['call_date'] = pd.to_datetime(dfs_calls['call_date'], format=\"%Y-%m-%d\")\n",
    "\n",
    "dfs_calls['is_missed'] = np.where(dfs_calls['duration'] == 0, True, False)\n",
    "\n",
    "dfs_calls['duration'] = np.ceil(dfs_calls['duration']).astype('int64')"
   ]
  },
  {
   "cell_type": "markdown",
   "id": "tender-alignment",
   "metadata": {},
   "source": [
    "## Объединение таблиц"
   ]
  },
  {
   "cell_type": "code",
   "execution_count": null,
   "id": "practical-penny",
   "metadata": {},
   "outputs": [],
   "source": [
    "data = calls.merge(messages, on=['user_id', 'month'], how='outer')\n",
    "data = data.merge(internet, on=['user_id', 'month'], how='outer')\n",
    "data = data.merge(users[['user_id', 'tariff', 'city']], on='user_id', how='left')\n",
    "data = data.fillna(0).astype(int)"
   ]
  },
  {
   "cell_type": "markdown",
   "id": "republican-boards",
   "metadata": {},
   "source": [
    "## Исследование данных"
   ]
  },
  {
   "cell_type": "code",
   "execution_count": 25,
   "id": "physical-overall",
   "metadata": {},
   "outputs": [
    {
     "name": "stdout",
     "output_type": "stream",
     "text": [
      "**************DECRIPTION OF TARIFF SMART**************\n"
     ]
    },
    {
     "data": {
      "text/html": [
       "<div>\n",
       "<style scoped>\n",
       "    .dataframe tbody tr th:only-of-type {\n",
       "        vertical-align: middle;\n",
       "    }\n",
       "\n",
       "    .dataframe tbody tr th {\n",
       "        vertical-align: top;\n",
       "    }\n",
       "\n",
       "    .dataframe thead th {\n",
       "        text-align: right;\n",
       "    }\n",
       "</style>\n",
       "<table border=\"1\" class=\"dataframe\">\n",
       "  <thead>\n",
       "    <tr style=\"text-align: right;\">\n",
       "      <th></th>\n",
       "      <th>duration_calls</th>\n",
       "      <th>amount_messages</th>\n",
       "      <th>gb_used</th>\n",
       "    </tr>\n",
       "  </thead>\n",
       "  <tbody>\n",
       "    <tr>\n",
       "      <th>count</th>\n",
       "      <td>2229.000000</td>\n",
       "      <td>2229.000000</td>\n",
       "      <td>2229.000000</td>\n",
       "    </tr>\n",
       "    <tr>\n",
       "      <th>mean</th>\n",
       "      <td>417.934948</td>\n",
       "      <td>33.384029</td>\n",
       "      <td>16.359354</td>\n",
       "    </tr>\n",
       "    <tr>\n",
       "      <th>std</th>\n",
       "      <td>190.313730</td>\n",
       "      <td>28.227876</td>\n",
       "      <td>5.758498</td>\n",
       "    </tr>\n",
       "    <tr>\n",
       "      <th>min</th>\n",
       "      <td>0.000000</td>\n",
       "      <td>0.000000</td>\n",
       "      <td>0.000000</td>\n",
       "    </tr>\n",
       "    <tr>\n",
       "      <th>25%</th>\n",
       "      <td>282.000000</td>\n",
       "      <td>10.000000</td>\n",
       "      <td>13.000000</td>\n",
       "    </tr>\n",
       "    <tr>\n",
       "      <th>50%</th>\n",
       "      <td>422.000000</td>\n",
       "      <td>28.000000</td>\n",
       "      <td>17.000000</td>\n",
       "    </tr>\n",
       "    <tr>\n",
       "      <th>75%</th>\n",
       "      <td>545.000000</td>\n",
       "      <td>51.000000</td>\n",
       "      <td>20.000000</td>\n",
       "    </tr>\n",
       "    <tr>\n",
       "      <th>max</th>\n",
       "      <td>1435.000000</td>\n",
       "      <td>143.000000</td>\n",
       "      <td>38.000000</td>\n",
       "    </tr>\n",
       "  </tbody>\n",
       "</table>\n",
       "</div>"
      ],
      "text/plain": [
       "       duration_calls  amount_messages      gb_used\n",
       "count     2229.000000      2229.000000  2229.000000\n",
       "mean       417.934948        33.384029    16.359354\n",
       "std        190.313730        28.227876     5.758498\n",
       "min          0.000000         0.000000     0.000000\n",
       "25%        282.000000        10.000000    13.000000\n",
       "50%        422.000000        28.000000    17.000000\n",
       "75%        545.000000        51.000000    20.000000\n",
       "max       1435.000000       143.000000    38.000000"
      ]
     },
     "metadata": {},
     "output_type": "display_data"
    },
    {
     "name": "stdout",
     "output_type": "stream",
     "text": [
      "\n",
      "**************DECRIPTION OF TARIFF ULTRA**************\n"
     ]
    },
    {
     "data": {
      "text/html": [
       "<div>\n",
       "<style scoped>\n",
       "    .dataframe tbody tr th:only-of-type {\n",
       "        vertical-align: middle;\n",
       "    }\n",
       "\n",
       "    .dataframe tbody tr th {\n",
       "        vertical-align: top;\n",
       "    }\n",
       "\n",
       "    .dataframe thead th {\n",
       "        text-align: right;\n",
       "    }\n",
       "</style>\n",
       "<table border=\"1\" class=\"dataframe\">\n",
       "  <thead>\n",
       "    <tr style=\"text-align: right;\">\n",
       "      <th></th>\n",
       "      <th>duration_calls</th>\n",
       "      <th>amount_messages</th>\n",
       "      <th>gb_used</th>\n",
       "    </tr>\n",
       "  </thead>\n",
       "  <tbody>\n",
       "    <tr>\n",
       "      <th>count</th>\n",
       "      <td>985.000000</td>\n",
       "      <td>985.000000</td>\n",
       "      <td>985.000000</td>\n",
       "    </tr>\n",
       "    <tr>\n",
       "      <th>mean</th>\n",
       "      <td>526.623350</td>\n",
       "      <td>49.363452</td>\n",
       "      <td>19.525888</td>\n",
       "    </tr>\n",
       "    <tr>\n",
       "      <th>std</th>\n",
       "      <td>317.606098</td>\n",
       "      <td>47.804457</td>\n",
       "      <td>9.865848</td>\n",
       "    </tr>\n",
       "    <tr>\n",
       "      <th>min</th>\n",
       "      <td>0.000000</td>\n",
       "      <td>0.000000</td>\n",
       "      <td>0.000000</td>\n",
       "    </tr>\n",
       "    <tr>\n",
       "      <th>25%</th>\n",
       "      <td>284.000000</td>\n",
       "      <td>6.000000</td>\n",
       "      <td>12.000000</td>\n",
       "    </tr>\n",
       "    <tr>\n",
       "      <th>50%</th>\n",
       "      <td>518.000000</td>\n",
       "      <td>38.000000</td>\n",
       "      <td>19.000000</td>\n",
       "    </tr>\n",
       "    <tr>\n",
       "      <th>75%</th>\n",
       "      <td>752.000000</td>\n",
       "      <td>79.000000</td>\n",
       "      <td>27.000000</td>\n",
       "    </tr>\n",
       "    <tr>\n",
       "      <th>max</th>\n",
       "      <td>1673.000000</td>\n",
       "      <td>224.000000</td>\n",
       "      <td>49.000000</td>\n",
       "    </tr>\n",
       "  </tbody>\n",
       "</table>\n",
       "</div>"
      ],
      "text/plain": [
       "       duration_calls  amount_messages     gb_used\n",
       "count      985.000000       985.000000  985.000000\n",
       "mean       526.623350        49.363452   19.525888\n",
       "std        317.606098        47.804457    9.865848\n",
       "min          0.000000         0.000000    0.000000\n",
       "25%        284.000000         6.000000   12.000000\n",
       "50%        518.000000        38.000000   19.000000\n",
       "75%        752.000000        79.000000   27.000000\n",
       "max       1673.000000       224.000000   49.000000"
      ]
     },
     "metadata": {},
     "output_type": "display_data"
    },
    {
     "name": "stdout",
     "output_type": "stream",
     "text": [
      "**************DISPERSIONS**************\n",
      "Smart:\n"
     ]
    },
    {
     "data": {
      "text/plain": [
       "duration_calls     36203.066652\n",
       "amount_messages      796.455483\n",
       "gb_used               33.145427\n",
       "dtype: float64"
      ]
     },
     "metadata": {},
     "output_type": "display_data"
    },
    {
     "name": "stdout",
     "output_type": "stream",
     "text": [
      "Ultra:\n"
     ]
    },
    {
     "data": {
      "text/plain": [
       "duration_calls     100771.223617\n",
       "amount_messages      2282.946075\n",
       "gb_used                97.236132\n",
       "dtype: float64"
      ]
     },
     "metadata": {},
     "output_type": "display_data"
    }
   ],
   "source": [
    "print('**************DECRIPTION OF TARIFF SMART**************')\n",
    "display(data.query('tariff == \"smart\"')[['duration_calls', 'amount_messages', 'gb_used' ]].describe())\n",
    "print()\n",
    "print('**************DECRIPTION OF TARIFF ULTRA**************')\n",
    "display(data.query('tariff == \"ultra\"')[['duration_calls', 'amount_messages', 'gb_used' ]].describe())\n",
    "\n",
    "print('**************DISPERSIONS**************')\n",
    "print('Smart:')\n",
    "display(np.var(data.query('tariff == \"smart\"')[['duration_calls', 'amount_messages', 'gb_used' ]]))\n",
    "print('Ultra:')\n",
    "display(np.var(data.query('tariff == \"ultra\"')[['duration_calls', 'amount_messages', 'gb_used' ]]))"
   ]
  },
  {
   "cell_type": "markdown",
   "id": "wanted-memorial",
   "metadata": {},
   "source": [
    "<b> Вывод: </b>\n",
    "\n",
    "1) Результат метода describe говорит о том, что для обоих тарифов среднее арифметическое (mean) практически равно медиане (50%), что говорит об отсутствии больших аномальных выбросах в данных. Только для тарифа ультра заметно отличаются среднее и медиана сообщений.\n",
    "\n",
    "2) Для всех трех рассчитываемых параемтров среднее у тарифа ультра больше, чем у тарифа смарт, что логично, ведь тариф ультра дороже и пакеты в нем больше.\n",
    "\n",
    "3) Среднеквадратичные отклонения сильно отличаются (больше, чем на 5%)."
   ]
  },
  {
   "cell_type": "code",
   "execution_count": 30,
   "id": "committed-generation",
   "metadata": {},
   "outputs": [
    {
     "data": {
      "image/png": "[encoded data removed]",
      "text/plain": [
       "<Figure size 1080x360 with 1 Axes>"
      ]
     },
     "metadata": {
      "needs_background": "light"
     },
     "output_type": "display_data"
    },
    {
     "data": {
      "image/png": "[encoded data removed]",
      "text/plain": [
       "<Figure size 1080x360 with 1 Axes>"
      ]
     },
     "metadata": {
      "needs_background": "light"
     },
     "output_type": "display_data"
    }
   ],
   "source": [
    "smart_month_stat = data[data['tariff'] == 'smart']\n",
    "ultra_month_stat = data[data['tariff'] == 'ultra']\n",
    "columns = ['amount_messages', 'gb_used']\n",
    "for column in columns:\n",
    "    ax = smart_month_stat[column].plot(title=column, kind='hist', histtype='step', label='smart', bins=25, \n",
    "            y=column, linewidth=5, alpha=0.7, figsize=(15,5), legend=True)\n",
    "    ultra_month_stat[column].plot(ax=ax, kind='hist', histtype='step', label='ultra', bins=25, \n",
    "            y=column, linewidth=5, alpha=0.7, grid=True, legend=True)\n",
    "    plt.show()"
   ]
  },
  {
   "cell_type": "code",
   "execution_count": null,
   "id": "laughing-sleeve",
   "metadata": {},
   "outputs": [],
   "source": []
  },
  {
   "cell_type": "markdown",
   "id": "fitted-perry",
   "metadata": {},
   "source": [
    "# Проверка гипотез"
   ]
  },
  {
   "cell_type": "markdown",
   "id": "honest-continuity",
   "metadata": {},
   "source": [
    "#### Гипотеза 1\n",
    "Были сформулированы следующие гипотезы: \n",
    "\n",
    "H0: средняя выручка пользователей тарифов «Ультра» **равна** средней выручке пользователей тарифов «Смарт»\n",
    "\n",
    "H1: средняя выручка пользователей тарифов «Ультра» **не равна** средней выручке пользователей тарифов «Смарт»\n"
   ]
  },
  {
   "cell_type": "code",
   "execution_count": null,
   "id": "saving-legislation",
   "metadata": {},
   "outputs": [],
   "source": []
  }
 ],
 "metadata": {
  "kernelspec": {
   "display_name": "Python 3.7.1 64-bit",
   "language": "python",
   "name": "python3"
  },
  "language_info": {
   "codemirror_mode": {
    "name": "ipython",
    "version": 3
   },
   "file_extension": ".py",
   "mimetype": "text/x-python",
   "name": "python",
   "nbconvert_exporter": "python",
   "pygments_lexer": "ipython3",
   "version": "3.7.1"
  },
  "vscode": {
   "interpreter": {
    "hash": "fbe58ca63fe33f9eeae9e71d10368d2b4a57f2b1b395836210cc60d362c66949"
   }
  }
 },
 "nbformat": 4,
 "nbformat_minor": 5
}
