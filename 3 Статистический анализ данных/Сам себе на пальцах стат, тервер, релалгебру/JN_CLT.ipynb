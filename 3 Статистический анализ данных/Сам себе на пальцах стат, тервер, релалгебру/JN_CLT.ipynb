{
 "cells": [
  {
   "cell_type": "markdown",
   "id": "exempt-transcription",
   "metadata": {},
   "source": [
    "**Работает ли ЦПТ?**"
   ]
  },
  {
   "cell_type": "code",
   "execution_count": 22,
   "id": "cleared-clock",
   "metadata": {},
   "outputs": [],
   "source": [
    "import numpy as np\n",
    "import matplotlib.pyplot as plt\n",
    "plt.style.use('ggplot')"
   ]
  },
  {
   "cell_type": "code",
   "execution_count": 57,
   "id": "floppy-architecture",
   "metadata": {},
   "outputs": [
    {
     "name": "stdout",
     "output_type": "stream",
     "text": [
      "[174 187 154 167 192 197 150 161 164 185 164 181 191 180 185 173 199 184\n",
      " 185 187 182 191 191 177 174 161 177 153 177 179]\n",
      "Средний рост 177.4 см\n"
     ]
    }
   ],
   "source": [
    "# случайным образом возьмем 30 человек, измерим их рост и вычислим среднее\n",
    "n=30\n",
    "height = np.random.randint(150, 200, n)\n",
    "print(height)\n",
    "print('Средний рост {} см'.format(np.mean(height)))\n"
   ]
  },
  {
   "cell_type": "code",
   "execution_count": null,
   "id": "seven-equation",
   "metadata": {},
   "outputs": [],
   "source": []
  },
  {
   "cell_type": "code",
   "execution_count": null,
   "id": "biological-satisfaction",
   "metadata": {},
   "outputs": [],
   "source": []
  },
  {
   "cell_type": "code",
   "execution_count": null,
   "id": "delayed-treasury",
   "metadata": {},
   "outputs": [],
   "source": []
  },
  {
   "cell_type": "code",
   "execution_count": null,
   "id": "previous-father",
   "metadata": {},
   "outputs": [],
   "source": []
  },
  {
   "cell_type": "code",
   "execution_count": 60,
   "id": "engaged-accreditation",
   "metadata": {},
   "outputs": [
    {
     "data": {
      "image/png": "[encoded data removed]",
      "text/plain": [
       "<Figure size 432x288 with 1 Axes>"
      ]
     },
     "metadata": {},
     "output_type": "display_data"
    },
    {
     "name": "stdout",
     "output_type": "stream",
     "text": [
      "Вуаля?\n"
     ]
    }
   ],
   "source": [
    "# проделаем это 2000 раз\n",
    "\n",
    "means = [np.mean(np.random.randint(150, 200, n)) for i in range(2000)]\n",
    "plt.hist(means)\n",
    "plt.show()\n",
    "print('Вуаля?')"
   ]
  },
  {
   "cell_type": "markdown",
   "id": "waiting-defeat",
   "metadata": {},
   "source": [
    "Ну, ок, у нас есть распределение, сделанное по средним значениям. Но что мы можем сказать о генеральной совокупности?\n"
   ]
  },
  {
   "cell_type": "code",
   "execution_count": 61,
   "id": "automatic-sharp",
   "metadata": {},
   "outputs": [
    {
     "name": "stdout",
     "output_type": "stream",
     "text": [
      "1)среднее значение множества средних значений, как правило, там же где среднее генеральной совокупности и = 174.44571666666667\n"
     ]
    }
   ],
   "source": [
    "print('1)среднее значение множества средних значений, как правило, там же где среднее генеральной совокупности и = {}'\n",
    "     .format(np.mean(means)))"
   ]
  },
  {
   "cell_type": "code",
   "execution_count": null,
   "id": "parallel-underground",
   "metadata": {},
   "outputs": [],
   "source": []
  },
  {
   "cell_type": "markdown",
   "id": "drawn-applicant",
   "metadata": {},
   "source": [
    "**Если метод понравился, доделай иллюстрацию самостоятельно**"
   ]
  },
  {
   "cell_type": "code",
   "execution_count": null,
   "id": "conservative-milwaukee",
   "metadata": {},
   "outputs": [],
   "source": []
  },
  {
   "cell_type": "markdown",
   "id": "plain-induction",
   "metadata": {},
   "source": [
    "2)как правило, распределение будет уже. На сколько? Зависит от выборки и будет равнятся стандартному отклонению генеральной\n",
    "совокупности поделенному на квадратный корень объема выборки"
   ]
  },
  {
   "cell_type": "markdown",
   "id": "herbal-panic",
   "metadata": {},
   "source": [
    "3)а еще мы может подсчитать вероятности в отношении генеральной совокупности"
   ]
  },
  {
   "cell_type": "markdown",
   "id": "verbal-offense",
   "metadata": {},
   "source": [
    "**с помощью ЦПТ можно объяснить эффективность большинства методов статистики**"
   ]
  }
 ],
 "metadata": {
  "kernelspec": {
   "display_name": "Python 3",
   "language": "python",
   "name": "python3"
  },
  "language_info": {
   "codemirror_mode": {
    "name": "ipython",
    "version": 3
   },
   "file_extension": ".py",
   "mimetype": "text/x-python",
   "name": "python",
   "nbconvert_exporter": "python",
   "pygments_lexer": "ipython3",
   "version": "3.8.5"
  }
 },
 "nbformat": 4,
 "nbformat_minor": 5
}
