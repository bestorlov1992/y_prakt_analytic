{
 "cells": [
  {
   "cell_type": "code",
   "execution_count": 4,
   "metadata": {
    "id": "Gr3lqS2TL1G_"
   },
   "outputs": [],
   "source": [
    "import numpy as np\n",
    "import pandas as pd\n",
    "import matplotlib.pyplot as plt\n",
    "%matplotlib inline\n",
    "\n",
    "import scipy.stats\n",
    "import statsmodels"
   ]
  },
  {
   "cell_type": "code",
   "execution_count": 1,
   "metadata": {},
   "outputs": [],
   "source": [
    "from termcolor import colored"
   ]
  },
  {
   "cell_type": "code",
   "execution_count": 2,
   "metadata": {},
   "outputs": [
    {
     "name": "stdout",
     "output_type": "stream",
     "text": [
      "hello world\n",
      "hello red world\n"
     ]
    }
   ],
   "source": [
    "print(colored('hello', 'red'), colored('world', 'green'))\n",
    "print(colored(\"hello red world\", 'red'))"
   ]
  },
  {
   "cell_type": "markdown",
   "metadata": {},
   "source": [
    "## Алгоритм проверки статистических гипотез"
   ]
  },
  {
   "cell_type": "markdown",
   "metadata": {},
   "source": [
    "- постановка задачи\n",
    "    - Сформулировать, что мы хотим узнать о выборках с точки зрения бизнес задачи (равны ли средние доходы в группах)"
   ]
  },
  {
   "cell_type": "markdown",
   "metadata": {},
   "source": [
    "- формулировка гипотез\n",
    "    - перевод бизнес-вопроса на язык статистики: средний доход в группах - проверка равенства средних значений\n",
    "    - формулировка нулевой гипотезы - с т.зр. равенства стат прараметров оцениваемых выборок (Н0: Средние траты клиентов по группе А равны средним тратам клинентов по группе В)\n",
    "    - формулировка альтернативной гипотезы - с точки зрения неравенства параметров (Н1: Средние траты клиентов по группе А не равны средним тратам клинентов по группе В)"
   ]
  },
  {
   "cell_type": "markdown",
   "metadata": {},
   "source": [
    "- выбор критерия alpha (почему 0.05 или 0.01)\n",
    "    - цена ошибки первого рода (при большой цене ошибки - в мед исследованиях, потенциальном ущербе ) - значение может быть больше, например 0.1\n",
    "    - в ежедневных бизнес задачах, обычно - 0.05"
   ]
  },
  {
   "cell_type": "markdown",
   "metadata": {},
   "source": [
    "- анализ распределения\n",
    "    - визуальная оценка\n",
    "    - следим за выбросами\n",
    "    - проверка гипотез о типе распредеделения (например критерий Шапиро-Уилка)\n",
    "    - если распределение не нормальное и размер выборки достаточный (больше 30-50 элементов) может быть использован t-test именно для проверки гипотезы о равенстве средних. Согласно ЦПТ (центральная предельная теорема) средние этих выборок будут распределены нормально. См. статью Зотова"
   ]
  },
  {
   "cell_type": "markdown",
   "metadata": {},
   "source": [
    "- выбор критерия\n",
    "    - при оценке равенства средних T-test"
   ]
  },
  {
   "cell_type": "markdown",
   "metadata": {},
   "source": [
    "- получение результата\n",
    "    - расчет p-value"
   ]
  },
  {
   "cell_type": "markdown",
   "metadata": {},
   "source": [
    "- интерпретация p-value\n",
    "    - сравнение p-value и alpha\n",
    "    - если альфа > p-value - отвергаем нулевую гипотезу\n",
    "    - если альфа < p-value - не можем отвергнуть нулевую гипотезу"
   ]
  },
  {
   "cell_type": "markdown",
   "metadata": {
    "id": "2bT6zEFTL1HE"
   },
   "source": [
    "## Генерируем данные"
   ]
  },
  {
   "cell_type": "code",
   "execution_count": 43,
   "metadata": {
    "id": "_ZEj4vb0L1HE"
   },
   "outputs": [],
   "source": [
    "#np.random.normal(mu - мат ожидание, sigma - стандартное отклонение, N - объем выборки)\n",
    "a = np.random.normal(35, 22, 9000)\n",
    "b = np.random.normal(30, 22, 10000)"
   ]
  },
  {
   "cell_type": "code",
   "execution_count": 44,
   "metadata": {
    "id": "7ef5RyMCL1HI",
    "outputId": "4663321b-32a3-4b83-f0b4-cb654b4d290a"
   },
   "outputs": [
    {
     "data": {
      "image/png": "[encoded data removed]",
      "text/plain": [
       "<Figure size 432x288 with 1 Axes>"
      ]
     },
     "metadata": {
      "needs_background": "light"
     },
     "output_type": "display_data"
    }
   ],
   "source": [
    "plt.hist(a, alpha=0.7, bins=100)\n",
    "plt.hist(b, alpha=0.7, bins=100)\n",
    "plt.show()"
   ]
  },
  {
   "cell_type": "markdown",
   "metadata": {
    "id": "36XAuR0IL1HL"
   },
   "source": [
    "## Проверяем абстрактный пример"
   ]
  },
  {
   "cell_type": "markdown",
   "metadata": {
    "id": "CRrJP2iTL1HM"
   },
   "source": [
    "H0: Среднее выборки a равно среднему выборки b\n",
    "<br>H1: Среднее выборки а не равно среднему выборки b"
   ]
  },
  {
   "cell_type": "code",
   "execution_count": 6,
   "metadata": {
    "id": "1qNqoIKlL1HM",
    "outputId": "01c9d59f-e63f-4e41-ec52-03ecc5fc1434"
   },
   "outputs": [],
   "source": [
    "a = np.random.normal(25, 15, 1000)\n",
    "b = np.random.normal(28, 15.6, 1000)"
   ]
  },
  {
   "cell_type": "code",
   "execution_count": 7,
   "metadata": {},
   "outputs": [
    {
     "data": {
      "image/png": "[encoded data removed]",
      "text/plain": [
       "<Figure size 432x288 with 1 Axes>"
      ]
     },
     "metadata": {
      "needs_background": "light"
     },
     "output_type": "display_data"
    }
   ],
   "source": [
    "plt.hist(a, alpha=0.7, bins=100)\n",
    "plt.hist(b, alpha=0.7, bins=100)\n",
    "plt.show()"
   ]
  },
  {
   "cell_type": "code",
   "execution_count": 8,
   "metadata": {
    "id": "1qNqoIKlL1HM",
    "outputId": "01c9d59f-e63f-4e41-ec52-03ecc5fc1434"
   },
   "outputs": [
    {
     "data": {
      "text/plain": [
       "Ttest_indResult(statistic=-4.299043410654094, pvalue=1.7979118687733868e-05)"
      ]
     },
     "execution_count": 8,
     "metadata": {},
     "output_type": "execute_result"
    }
   ],
   "source": [
    "scipy.stats.ttest_ind(a, b, equal_var=False)"
   ]
  },
  {
   "cell_type": "markdown",
   "metadata": {
    "id": "tuRHJHQSL1HP"
   },
   "source": [
    "Что это значит?"
   ]
  },
  {
   "cell_type": "code",
   "execution_count": 45,
   "metadata": {
    "id": "x8-Qdmh-L1HQ"
   },
   "outputs": [],
   "source": [
    "?scipy.stats.ttest_ind"
   ]
  },
  {
   "cell_type": "markdown",
   "metadata": {
    "id": "nY4o61SnL1HS"
   },
   "source": [
    "Чтобы p-value не смущало:"
   ]
  },
  {
   "cell_type": "code",
   "execution_count": 10,
   "metadata": {},
   "outputs": [
    {
     "name": "stdout",
     "output_type": "stream",
     "text": [
      "\u001b[31mОтвергаем нулевую гипотезу\u001b[0m pvalue: 1.7979118687733868e-05 alpha: 0.05\n",
      "\n"
     ]
    }
   ],
   "source": [
    "alpha = 0.05\n",
    "results = scipy.stats.ttest_ind(a, b, equal_var=False)\n",
    "\n",
    "# Проверка гипотез о равенстве средних\n",
    "if (results.pvalue < alpha):\n",
    "    print(colored(\"Отвергаем нулевую гипотезу\", 'red'), f'pvalue: {results.pvalue}', f'alpha: {alpha}')\n",
    "    print()\n",
    "else:\n",
    "    print(colored(\"Не можем отвергнуть нулевую гипотезу\", 'green') , f'pvalue: {results.pvalue}', f'alpha: {alpha}')\n",
    "    print()"
   ]
  },
  {
   "cell_type": "markdown",
   "metadata": {},
   "source": [
    "### Функция"
   ]
  },
  {
   "cell_type": "markdown",
   "metadata": {},
   "source": [
    "Пример автоматизации:"
   ]
  },
  {
   "cell_type": "code",
   "execution_count": 11,
   "metadata": {},
   "outputs": [],
   "source": [
    "def equal_means(a,b, data, equal_var = False, alpha = 0.05, number=1):\n",
    "    # Описание выборок\n",
    "    print(f\"Выборка А: среднее:{data[number]['a'][0]}, размах: {data[number]['a'][1]}, размер выборки: {data[number]['a'][2]}\")\n",
    "    print(f\"Выборка B: среднее: {data[number]['b'][0]}, размах: {data[number]['b'][1]}, размер выборки: {data[number]['b'][2]}\")\n",
    "    # Генерация выборок\n",
    "    a = np.random.normal(data[number]['a'][0], data[number]['a'][1], data[number]['a'][2])\n",
    "    b = np.random.normal(data[number]['b'][0], data[number]['b'][1], data[number]['b'][2])\n",
    "    # Расчет параметров из коробки\n",
    "    results = scipy.stats.ttest_ind(a, b, equal_var=equal_var)\n",
    "    \n",
    "    print(f'из коробки - {results}')\n",
    "    # Построение гистограмм для визуальной оценки распределений\n",
    "    plt.hist(a, alpha=0.7, bins=100)\n",
    "    plt.hist(b, alpha=0.7, bins=100)\n",
    "    plt.show()\n",
    "    # Проверка гипотез о равенстве средних\n",
    "    if (results.pvalue < alpha):\n",
    "        print(colored(\"Отвергаем нулевую гипотезу\", 'red'), f'pvalue: {results.pvalue}', f'alpha: {alpha}')\n",
    "        print()\n",
    "    else:\n",
    "        print(colored(\"Не можем отвергнуть нулевую гипотезу\", 'green') , f'pvalue: {results.pvalue}', f'alpha: {alpha}')\n",
    "        print()"
   ]
  },
  {
   "cell_type": "markdown",
   "metadata": {},
   "source": [
    "### Параметры выборок\n",
    "- среднее\n",
    "- размах\n",
    "- размер выборки\n",
    "    "
   ]
  },
  {
   "cell_type": "code",
   "execution_count": 46,
   "metadata": {
    "id": "_WdW3zo4L1He",
    "outputId": "c1c82edd-ea01-41f2-9b64-860b85372a1a"
   },
   "outputs": [],
   "source": [
    "data = {\n",
    "1: {\n",
    "    'a':(26, 30, 6000),\n",
    "    'b':(27, 31, 6000)\n",
    "    },\n",
    "2: {\n",
    "    'a':(25, 22, 9000),\n",
    "    'b':(30, 22, 9500)\n",
    "    },\n",
    "3: {\n",
    "    'a':(26, 30, 1000),\n",
    "    'b':(27, 31, 1000)\n",
    "},\n",
    "4: {\n",
    "    'a':(64, 60, 10000),\n",
    "    'b':(65, 60, 10000)\n",
    "}\n",
    "}"
   ]
  },
  {
   "cell_type": "code",
   "execution_count": 47,
   "metadata": {},
   "outputs": [
    {
     "name": "stdout",
     "output_type": "stream",
     "text": [
      "НОМЕР ПРИМЕРА ВЫБОРОК: 1\n",
      "Выборка А: среднее:26, размах: 30, размер выборки: 6000\n",
      "Выборка B: среднее: 27, размах: 31, размер выборки: 6000\n",
      "из коробки - Ttest_indResult(statistic=-1.6013399850019303, pvalue=0.10932797763224904)\n"
     ]
    },
    {
     "data": {
      "image/png": "[encoded data removed]",
      "text/plain": [
       "<Figure size 432x288 with 1 Axes>"
      ]
     },
     "metadata": {
      "needs_background": "light"
     },
     "output_type": "display_data"
    },
    {
     "name": "stdout",
     "output_type": "stream",
     "text": [
      "\u001b[32mНе можем отвергнуть нулевую гипотезу\u001b[0m pvalue: 0.10932797763224904 alpha: 0.05\n",
      "\n",
      "НОМЕР ПРИМЕРА ВЫБОРОК: 2\n",
      "Выборка А: среднее:25, размах: 22, размер выборки: 9000\n",
      "Выборка B: среднее: 30, размах: 22, размер выборки: 9500\n",
      "из коробки - Ttest_indResult(statistic=-17.89081154675845, pvalue=5.535158153295795e-71)\n"
     ]
    },
    {
     "data": {
      "image/png": "[encoded data removed]",
      "text/plain": [
       "<Figure size 432x288 with 1 Axes>"
      ]
     },
     "metadata": {
      "needs_background": "light"
     },
     "output_type": "display_data"
    },
    {
     "name": "stdout",
     "output_type": "stream",
     "text": [
      "\u001b[31mОтвергаем нулевую гипотезу\u001b[0m pvalue: 5.535158153295795e-71 alpha: 0.05\n",
      "\n",
      "НОМЕР ПРИМЕРА ВЫБОРОК: 3\n",
      "Выборка А: среднее:26, размах: 30, размер выборки: 1000\n",
      "Выборка B: среднее: 27, размах: 31, размер выборки: 1000\n",
      "из коробки - Ttest_indResult(statistic=-1.043947081785328, pvalue=0.2966366552723028)\n"
     ]
    },
    {
     "data": {
      "image/png": "[encoded data removed]",
      "text/plain": [
       "<Figure size 432x288 with 1 Axes>"
      ]
     },
     "metadata": {
      "needs_background": "light"
     },
     "output_type": "display_data"
    },
    {
     "name": "stdout",
     "output_type": "stream",
     "text": [
      "\u001b[32mНе можем отвергнуть нулевую гипотезу\u001b[0m pvalue: 0.2966366552723028 alpha: 0.05\n",
      "\n",
      "НОМЕР ПРИМЕРА ВЫБОРОК: 4\n",
      "Выборка А: среднее:64, размах: 60, размер выборки: 10000\n",
      "Выборка B: среднее: 65, размах: 60, размер выборки: 10000\n",
      "из коробки - Ttest_indResult(statistic=-0.3719742724634113, pvalue=0.7099159463840767)\n"
     ]
    },
    {
     "data": {
      "image/png": "[encoded data removed]",
      "text/plain": [
       "<Figure size 432x288 with 1 Axes>"
      ]
     },
     "metadata": {
      "needs_background": "light"
     },
     "output_type": "display_data"
    },
    {
     "name": "stdout",
     "output_type": "stream",
     "text": [
      "\u001b[32mНе можем отвергнуть нулевую гипотезу\u001b[0m pvalue: 0.7099159463840767 alpha: 0.05\n",
      "\n"
     ]
    }
   ],
   "source": [
    "for number in range(1,len(data)+1):\n",
    "    print(f'номер примера выборок: {number}'.upper())\n",
    "    equal_means(a,b, data, equal_var = False, alpha = 0.05, number=number)"
   ]
  },
  {
   "cell_type": "markdown",
   "metadata": {
    "id": "Q2aOxnMCL1HX"
   },
   "source": [
    "Попробуем другие параметры (посмотрите, что меняется при изменении разницы между средними, росте дисперсии, росте N)"
   ]
  },
  {
   "cell_type": "markdown",
   "metadata": {
    "id": "xpUWvQgsL1Hx"
   },
   "source": [
    "## Проверяем равенство конверсий"
   ]
  },
  {
   "cell_type": "markdown",
   "metadata": {
    "id": "RHgc3D1zL1Hx"
   },
   "source": [
    "Реализация \"из коробки\":"
   ]
  },
  {
   "cell_type": "code",
   "execution_count": 2,
   "metadata": {
    "id": "OI15W7S9L1Hy",
    "outputId": "948b5d91-8648-4371-d6d0-bae38e094dfe"
   },
   "outputs": [
    {
     "data": {
      "text/plain": [
       "(-1.4078304151258787, 0.15918129181156992)"
      ]
     },
     "execution_count": 2,
     "metadata": {},
     "output_type": "execute_result"
    }
   ],
   "source": [
    "import numpy as np\n",
    "from statsmodels.stats.proportion import proportions_ztest\n",
    "converted = np.array([5, 12])\n",
    "nobs = np.array([83, 99])\n",
    "stat, pval = proportions_ztest(converted, nobs)\n",
    "# print('{0:0.3f}'.format(pval))\n",
    "stat,pval"
   ]
  },
  {
   "cell_type": "markdown",
   "metadata": {
    "id": "J-NowkH4L1H1"
   },
   "source": [
    "Реализация Z-теста руками:"
   ]
  },
  {
   "cell_type": "code",
   "execution_count": 9,
   "metadata": {},
   "outputs": [
    {
     "data": {
      "text/plain": [
       "0.9750021048517795"
      ]
     },
     "execution_count": 9,
     "metadata": {},
     "output_type": "execute_result"
    }
   ],
   "source": [
    "scipy.stats.norm.cdf(1.96)"
   ]
  },
  {
   "cell_type": "code",
   "execution_count": 15,
   "metadata": {
    "id": "Nh87iLgQL1H1"
   },
   "outputs": [],
   "source": [
    "def two_sample_binomial_test(p1, N1, p2, N2):\n",
    "    p = (N1*p1+N2*p2)/(N1+N2)\n",
    "    Z = np.sqrt(N1 * N2 / (N1 + N2)) * (p1 - p2) / np.sqrt(p * (1 - p))\n",
    "    p_value = 2 * scipy.stats.norm.sf(abs(Z))\n",
    "    return Z, p_value"
   ]
  },
  {
   "cell_type": "code",
   "execution_count": 16,
   "metadata": {
    "id": "GvdnmTs-L1H4",
    "outputId": "a582f70a-1293-45a3-94a7-67a84b93e0e6"
   },
   "outputs": [
    {
     "name": "stdout",
     "output_type": "stream",
     "text": [
      "(-1.4078304151258785, 0.15918129181157015) (-1.4078304151258787, 0.15918129181156992)\n"
     ]
    }
   ],
   "source": [
    "print(two_sample_binomial_test(5/83, 83, 12/99, 99), proportions_ztest(converted, nobs))"
   ]
  },
  {
   "cell_type": "markdown",
   "metadata": {
    "id": "IjHCJNo-L1H7"
   },
   "source": [
    "Почитать про z-test можно почитать на английской википедии"
   ]
  },
  {
   "cell_type": "markdown",
   "metadata": {},
   "source": [
    "# Часть2\n",
    "## Merge & join"
   ]
  },
  {
   "cell_type": "markdown",
   "metadata": {},
   "source": [
    "### Формируем тренировочные датасеты\n"
   ]
  },
  {
   "cell_type": "code",
   "execution_count": 48,
   "metadata": {},
   "outputs": [],
   "source": [
    "cl = pd.DataFrame({ 'id': ['11', '12', '13', '14', '15'],\n",
    "                    'city': ['Moscow', 'moscow', 'spb', 'moscow', 'SPB'],\n",
    "                    'gender': ['m', 'f', 'f', 'M', 'F']})\n",
    "\n",
    "ord = pd.DataFrame({'id': ['001', '002', '003', '004', '005', '006', '007', '008'],\n",
    "                     'cl_id': ['12', '16', '13', '12', '14', '10', '12', '13'],\n",
    "                     'price': ['400', '200', '300', '150', '100', '200', '300', '150'],\n",
    "                     'discount': ['0.01', '0', '0.05', '0', '0', '0.01', '0', '0'],\n",
    "                     'status': ['order', 'deliver', 'done', 'cansel', '', 'order', 'deliver', 'done']})\n"
   ]
  },
  {
   "cell_type": "code",
   "execution_count": 18,
   "metadata": {},
   "outputs": [
    {
     "data": {
      "text/html": [
       "<div>\n",
       "<style scoped>\n",
       "    .dataframe tbody tr th:only-of-type {\n",
       "        vertical-align: middle;\n",
       "    }\n",
       "\n",
       "    .dataframe tbody tr th {\n",
       "        vertical-align: top;\n",
       "    }\n",
       "\n",
       "    .dataframe thead th {\n",
       "        text-align: right;\n",
       "    }\n",
       "</style>\n",
       "<table border=\"1\" class=\"dataframe\">\n",
       "  <thead>\n",
       "    <tr style=\"text-align: right;\">\n",
       "      <th></th>\n",
       "      <th>id</th>\n",
       "      <th>city</th>\n",
       "      <th>gender</th>\n",
       "    </tr>\n",
       "  </thead>\n",
       "  <tbody>\n",
       "    <tr>\n",
       "      <td>0</td>\n",
       "      <td>11</td>\n",
       "      <td>Moscow</td>\n",
       "      <td>m</td>\n",
       "    </tr>\n",
       "    <tr>\n",
       "      <td>1</td>\n",
       "      <td>12</td>\n",
       "      <td>moscow</td>\n",
       "      <td>f</td>\n",
       "    </tr>\n",
       "    <tr>\n",
       "      <td>2</td>\n",
       "      <td>13</td>\n",
       "      <td>spb</td>\n",
       "      <td>f</td>\n",
       "    </tr>\n",
       "    <tr>\n",
       "      <td>3</td>\n",
       "      <td>14</td>\n",
       "      <td>moscow</td>\n",
       "      <td>M</td>\n",
       "    </tr>\n",
       "    <tr>\n",
       "      <td>4</td>\n",
       "      <td>15</td>\n",
       "      <td>SPB</td>\n",
       "      <td>F</td>\n",
       "    </tr>\n",
       "  </tbody>\n",
       "</table>\n",
       "</div>"
      ],
      "text/plain": [
       "   id    city gender\n",
       "0  11  Moscow      m\n",
       "1  12  moscow      f\n",
       "2  13     spb      f\n",
       "3  14  moscow      M\n",
       "4  15     SPB      F"
      ]
     },
     "execution_count": 18,
     "metadata": {},
     "output_type": "execute_result"
    }
   ],
   "source": [
    "cl"
   ]
  },
  {
   "cell_type": "code",
   "execution_count": 19,
   "metadata": {},
   "outputs": [
    {
     "data": {
      "text/html": [
       "<div>\n",
       "<style scoped>\n",
       "    .dataframe tbody tr th:only-of-type {\n",
       "        vertical-align: middle;\n",
       "    }\n",
       "\n",
       "    .dataframe tbody tr th {\n",
       "        vertical-align: top;\n",
       "    }\n",
       "\n",
       "    .dataframe thead th {\n",
       "        text-align: right;\n",
       "    }\n",
       "</style>\n",
       "<table border=\"1\" class=\"dataframe\">\n",
       "  <thead>\n",
       "    <tr style=\"text-align: right;\">\n",
       "      <th></th>\n",
       "      <th>id</th>\n",
       "      <th>cl_id</th>\n",
       "      <th>price</th>\n",
       "      <th>discount</th>\n",
       "      <th>status</th>\n",
       "    </tr>\n",
       "  </thead>\n",
       "  <tbody>\n",
       "    <tr>\n",
       "      <td>0</td>\n",
       "      <td>001</td>\n",
       "      <td>12</td>\n",
       "      <td>400</td>\n",
       "      <td>0.01</td>\n",
       "      <td>order</td>\n",
       "    </tr>\n",
       "    <tr>\n",
       "      <td>1</td>\n",
       "      <td>002</td>\n",
       "      <td>16</td>\n",
       "      <td>200</td>\n",
       "      <td>0</td>\n",
       "      <td>deliver</td>\n",
       "    </tr>\n",
       "    <tr>\n",
       "      <td>2</td>\n",
       "      <td>003</td>\n",
       "      <td>13</td>\n",
       "      <td>300</td>\n",
       "      <td>0.05</td>\n",
       "      <td>done</td>\n",
       "    </tr>\n",
       "    <tr>\n",
       "      <td>3</td>\n",
       "      <td>004</td>\n",
       "      <td>12</td>\n",
       "      <td>150</td>\n",
       "      <td>0</td>\n",
       "      <td>cansel</td>\n",
       "    </tr>\n",
       "    <tr>\n",
       "      <td>4</td>\n",
       "      <td>005</td>\n",
       "      <td>14</td>\n",
       "      <td>100</td>\n",
       "      <td>0</td>\n",
       "      <td></td>\n",
       "    </tr>\n",
       "    <tr>\n",
       "      <td>5</td>\n",
       "      <td>006</td>\n",
       "      <td>10</td>\n",
       "      <td>200</td>\n",
       "      <td>0.01</td>\n",
       "      <td>order</td>\n",
       "    </tr>\n",
       "    <tr>\n",
       "      <td>6</td>\n",
       "      <td>007</td>\n",
       "      <td>12</td>\n",
       "      <td>300</td>\n",
       "      <td>0</td>\n",
       "      <td>deliver</td>\n",
       "    </tr>\n",
       "    <tr>\n",
       "      <td>7</td>\n",
       "      <td>008</td>\n",
       "      <td>13</td>\n",
       "      <td>150</td>\n",
       "      <td>0</td>\n",
       "      <td>done</td>\n",
       "    </tr>\n",
       "  </tbody>\n",
       "</table>\n",
       "</div>"
      ],
      "text/plain": [
       "    id cl_id price discount   status\n",
       "0  001    12   400     0.01    order\n",
       "1  002    16   200        0  deliver\n",
       "2  003    13   300     0.05     done\n",
       "3  004    12   150        0   cansel\n",
       "4  005    14   100        0         \n",
       "5  006    10   200     0.01    order\n",
       "6  007    12   300        0  deliver\n",
       "7  008    13   150        0     done"
      ]
     },
     "execution_count": 19,
     "metadata": {},
     "output_type": "execute_result"
    }
   ],
   "source": [
    "ord"
   ]
  },
  {
   "cell_type": "code",
   "execution_count": 20,
   "metadata": {},
   "outputs": [
    {
     "name": "stdout",
     "output_type": "stream",
     "text": [
      "<class 'pandas.core.frame.DataFrame'>\n",
      "RangeIndex: 5 entries, 0 to 4\n",
      "Data columns (total 3 columns):\n",
      "id        5 non-null object\n",
      "city      5 non-null object\n",
      "gender    5 non-null object\n",
      "dtypes: object(3)\n",
      "memory usage: 248.0+ bytes\n"
     ]
    }
   ],
   "source": [
    "cl.info()"
   ]
  },
  {
   "cell_type": "code",
   "execution_count": 21,
   "metadata": {},
   "outputs": [
    {
     "name": "stdout",
     "output_type": "stream",
     "text": [
      "<class 'pandas.core.frame.DataFrame'>\n",
      "RangeIndex: 8 entries, 0 to 7\n",
      "Data columns (total 5 columns):\n",
      "id          8 non-null object\n",
      "cl_id       8 non-null object\n",
      "price       8 non-null object\n",
      "discount    8 non-null object\n",
      "status      8 non-null object\n",
      "dtypes: object(5)\n",
      "memory usage: 448.0+ bytes\n"
     ]
    }
   ],
   "source": [
    "ord.info()"
   ]
  },
  {
   "cell_type": "markdown",
   "metadata": {},
   "source": [
    "### Приводим столбцы к нужному типу\n",
    "\n",
    "В каждой из табличек проверяем, что все столбцы имеют тот тип, который мы ожидаем, и в случае, если это не так, приводим к нужному типу."
   ]
  },
  {
   "cell_type": "code",
   "execution_count": 22,
   "metadata": {},
   "outputs": [],
   "source": [
    "# Меняем на нижний регистр\n",
    "for column_name in [\"city\", \"gender\"]:\n",
    "    cl[column_name] = cl[column_name].str.lower()"
   ]
  },
  {
   "cell_type": "code",
   "execution_count": 23,
   "metadata": {},
   "outputs": [
    {
     "data": {
      "text/html": [
       "<div>\n",
       "<style scoped>\n",
       "    .dataframe tbody tr th:only-of-type {\n",
       "        vertical-align: middle;\n",
       "    }\n",
       "\n",
       "    .dataframe tbody tr th {\n",
       "        vertical-align: top;\n",
       "    }\n",
       "\n",
       "    .dataframe thead th {\n",
       "        text-align: right;\n",
       "    }\n",
       "</style>\n",
       "<table border=\"1\" class=\"dataframe\">\n",
       "  <thead>\n",
       "    <tr style=\"text-align: right;\">\n",
       "      <th></th>\n",
       "      <th>id</th>\n",
       "      <th>city</th>\n",
       "      <th>gender</th>\n",
       "    </tr>\n",
       "  </thead>\n",
       "  <tbody>\n",
       "    <tr>\n",
       "      <td>0</td>\n",
       "      <td>11</td>\n",
       "      <td>moscow</td>\n",
       "      <td>m</td>\n",
       "    </tr>\n",
       "    <tr>\n",
       "      <td>1</td>\n",
       "      <td>12</td>\n",
       "      <td>moscow</td>\n",
       "      <td>f</td>\n",
       "    </tr>\n",
       "    <tr>\n",
       "      <td>2</td>\n",
       "      <td>13</td>\n",
       "      <td>spb</td>\n",
       "      <td>f</td>\n",
       "    </tr>\n",
       "    <tr>\n",
       "      <td>3</td>\n",
       "      <td>14</td>\n",
       "      <td>moscow</td>\n",
       "      <td>m</td>\n",
       "    </tr>\n",
       "    <tr>\n",
       "      <td>4</td>\n",
       "      <td>15</td>\n",
       "      <td>spb</td>\n",
       "      <td>f</td>\n",
       "    </tr>\n",
       "  </tbody>\n",
       "</table>\n",
       "</div>"
      ],
      "text/plain": [
       "   id    city gender\n",
       "0  11  moscow      m\n",
       "1  12  moscow      f\n",
       "2  13     spb      f\n",
       "3  14  moscow      m\n",
       "4  15     spb      f"
      ]
     },
     "execution_count": 23,
     "metadata": {},
     "output_type": "execute_result"
    }
   ],
   "source": [
    "cl"
   ]
  },
  {
   "cell_type": "code",
   "execution_count": 24,
   "metadata": {},
   "outputs": [],
   "source": [
    "convert_dict = {\"price\": float,\n",
    "                \"discount\": float} \n",
    "  \n",
    "ord = ord.astype(convert_dict) \n",
    "\n",
    "# проверяем, нет ли пропусков, какие разделители. пропуски нужно заменить нулями"
   ]
  },
  {
   "cell_type": "code",
   "execution_count": 25,
   "metadata": {},
   "outputs": [
    {
     "name": "stdout",
     "output_type": "stream",
     "text": [
      "<class 'pandas.core.frame.DataFrame'>\n",
      "RangeIndex: 8 entries, 0 to 7\n",
      "Data columns (total 5 columns):\n",
      "id          8 non-null object\n",
      "cl_id       8 non-null object\n",
      "price       8 non-null float64\n",
      "discount    8 non-null float64\n",
      "status      8 non-null object\n",
      "dtypes: float64(2), object(3)\n",
      "memory usage: 448.0+ bytes\n"
     ]
    }
   ],
   "source": [
    "ord.info()"
   ]
  },
  {
   "cell_type": "markdown",
   "metadata": {},
   "source": [
    "### Join или Merge"
   ]
  },
  {
   "cell_type": "markdown",
   "metadata": {},
   "source": [
    "### Объединяем основную таблицу ord и cl\n",
    "1. Понять, каким образом мы хотим сделать объединение (left, inner, outer)\n",
    "2. Выбрать метод, которым мы будем объединять\n",
    "3. После любого объединения нужно всегда проверять, что количество строк в итоговой таблице ровно такое, как мы ожидаем"
   ]
  },
  {
   "cell_type": "markdown",
   "metadata": {},
   "source": [
    "###### Вспоминаем объем датасета"
   ]
  },
  {
   "cell_type": "code",
   "execution_count": 26,
   "metadata": {},
   "outputs": [
    {
     "data": {
      "text/plain": [
       "(8, 5)"
      ]
     },
     "execution_count": 26,
     "metadata": {},
     "output_type": "execute_result"
    }
   ],
   "source": [
    "ord.shape"
   ]
  },
  {
   "cell_type": "code",
   "execution_count": 27,
   "metadata": {},
   "outputs": [
    {
     "data": {
      "text/html": [
       "<div>\n",
       "<style scoped>\n",
       "    .dataframe tbody tr th:only-of-type {\n",
       "        vertical-align: middle;\n",
       "    }\n",
       "\n",
       "    .dataframe tbody tr th {\n",
       "        vertical-align: top;\n",
       "    }\n",
       "\n",
       "    .dataframe thead th {\n",
       "        text-align: right;\n",
       "    }\n",
       "</style>\n",
       "<table border=\"1\" class=\"dataframe\">\n",
       "  <thead>\n",
       "    <tr style=\"text-align: right;\">\n",
       "      <th></th>\n",
       "      <th>price</th>\n",
       "      <th>discount</th>\n",
       "    </tr>\n",
       "  </thead>\n",
       "  <tbody>\n",
       "    <tr>\n",
       "      <td>count</td>\n",
       "      <td>8.0</td>\n",
       "      <td>8.000000</td>\n",
       "    </tr>\n",
       "    <tr>\n",
       "      <td>mean</td>\n",
       "      <td>225.0</td>\n",
       "      <td>0.008750</td>\n",
       "    </tr>\n",
       "    <tr>\n",
       "      <td>std</td>\n",
       "      <td>100.0</td>\n",
       "      <td>0.017269</td>\n",
       "    </tr>\n",
       "    <tr>\n",
       "      <td>min</td>\n",
       "      <td>100.0</td>\n",
       "      <td>0.000000</td>\n",
       "    </tr>\n",
       "    <tr>\n",
       "      <td>25%</td>\n",
       "      <td>150.0</td>\n",
       "      <td>0.000000</td>\n",
       "    </tr>\n",
       "    <tr>\n",
       "      <td>50%</td>\n",
       "      <td>200.0</td>\n",
       "      <td>0.000000</td>\n",
       "    </tr>\n",
       "    <tr>\n",
       "      <td>75%</td>\n",
       "      <td>300.0</td>\n",
       "      <td>0.010000</td>\n",
       "    </tr>\n",
       "    <tr>\n",
       "      <td>max</td>\n",
       "      <td>400.0</td>\n",
       "      <td>0.050000</td>\n",
       "    </tr>\n",
       "  </tbody>\n",
       "</table>\n",
       "</div>"
      ],
      "text/plain": [
       "       price  discount\n",
       "count    8.0  8.000000\n",
       "mean   225.0  0.008750\n",
       "std    100.0  0.017269\n",
       "min    100.0  0.000000\n",
       "25%    150.0  0.000000\n",
       "50%    200.0  0.000000\n",
       "75%    300.0  0.010000\n",
       "max    400.0  0.050000"
      ]
     },
     "execution_count": 27,
     "metadata": {},
     "output_type": "execute_result"
    }
   ],
   "source": [
    "ord.describe()"
   ]
  },
  {
   "cell_type": "code",
   "execution_count": 28,
   "metadata": {},
   "outputs": [
    {
     "data": {
      "text/plain": [
       "id                        001002003004005006007008\n",
       "cl_id                             1216131214101213\n",
       "price                                         1800\n",
       "discount                                      0.07\n",
       "status      orderdeliverdonecanselorderdeliverdone\n",
       "dtype: object"
      ]
     },
     "execution_count": 28,
     "metadata": {},
     "output_type": "execute_result"
    }
   ],
   "source": [
    "ord.sum()"
   ]
  },
  {
   "cell_type": "markdown",
   "metadata": {},
   "source": [
    "###### объединяем по ключу клиента"
   ]
  },
  {
   "cell_type": "code",
   "execution_count": 29,
   "metadata": {},
   "outputs": [
    {
     "data": {
      "text/html": [
       "<div>\n",
       "<style scoped>\n",
       "    .dataframe tbody tr th:only-of-type {\n",
       "        vertical-align: middle;\n",
       "    }\n",
       "\n",
       "    .dataframe tbody tr th {\n",
       "        vertical-align: top;\n",
       "    }\n",
       "\n",
       "    .dataframe thead th {\n",
       "        text-align: right;\n",
       "    }\n",
       "</style>\n",
       "<table border=\"1\" class=\"dataframe\">\n",
       "  <thead>\n",
       "    <tr style=\"text-align: right;\">\n",
       "      <th></th>\n",
       "      <th>id_x</th>\n",
       "      <th>cl_id</th>\n",
       "      <th>price</th>\n",
       "      <th>discount</th>\n",
       "      <th>status</th>\n",
       "      <th>id_y</th>\n",
       "      <th>city</th>\n",
       "      <th>gender</th>\n",
       "    </tr>\n",
       "  </thead>\n",
       "  <tbody>\n",
       "    <tr>\n",
       "      <td>0</td>\n",
       "      <td>001</td>\n",
       "      <td>12</td>\n",
       "      <td>400.0</td>\n",
       "      <td>0.01</td>\n",
       "      <td>order</td>\n",
       "      <td>12</td>\n",
       "      <td>moscow</td>\n",
       "      <td>f</td>\n",
       "    </tr>\n",
       "    <tr>\n",
       "      <td>1</td>\n",
       "      <td>004</td>\n",
       "      <td>12</td>\n",
       "      <td>150.0</td>\n",
       "      <td>0.00</td>\n",
       "      <td>cansel</td>\n",
       "      <td>12</td>\n",
       "      <td>moscow</td>\n",
       "      <td>f</td>\n",
       "    </tr>\n",
       "    <tr>\n",
       "      <td>2</td>\n",
       "      <td>007</td>\n",
       "      <td>12</td>\n",
       "      <td>300.0</td>\n",
       "      <td>0.00</td>\n",
       "      <td>deliver</td>\n",
       "      <td>12</td>\n",
       "      <td>moscow</td>\n",
       "      <td>f</td>\n",
       "    </tr>\n",
       "    <tr>\n",
       "      <td>3</td>\n",
       "      <td>003</td>\n",
       "      <td>13</td>\n",
       "      <td>300.0</td>\n",
       "      <td>0.05</td>\n",
       "      <td>done</td>\n",
       "      <td>13</td>\n",
       "      <td>spb</td>\n",
       "      <td>f</td>\n",
       "    </tr>\n",
       "    <tr>\n",
       "      <td>4</td>\n",
       "      <td>008</td>\n",
       "      <td>13</td>\n",
       "      <td>150.0</td>\n",
       "      <td>0.00</td>\n",
       "      <td>done</td>\n",
       "      <td>13</td>\n",
       "      <td>spb</td>\n",
       "      <td>f</td>\n",
       "    </tr>\n",
       "    <tr>\n",
       "      <td>5</td>\n",
       "      <td>005</td>\n",
       "      <td>14</td>\n",
       "      <td>100.0</td>\n",
       "      <td>0.00</td>\n",
       "      <td></td>\n",
       "      <td>14</td>\n",
       "      <td>moscow</td>\n",
       "      <td>m</td>\n",
       "    </tr>\n",
       "  </tbody>\n",
       "</table>\n",
       "</div>"
      ],
      "text/plain": [
       "  id_x cl_id  price  discount   status id_y    city gender\n",
       "0  001    12  400.0      0.01    order   12  moscow      f\n",
       "1  004    12  150.0      0.00   cansel   12  moscow      f\n",
       "2  007    12  300.0      0.00  deliver   12  moscow      f\n",
       "3  003    13  300.0      0.05     done   13     spb      f\n",
       "4  008    13  150.0      0.00     done   13     spb      f\n",
       "5  005    14  100.0      0.00            14  moscow      m"
      ]
     },
     "execution_count": 29,
     "metadata": {},
     "output_type": "execute_result"
    }
   ],
   "source": [
    "data = ord.merge(cl, left_on=\"cl_id\", right_on=\"id\")\n",
    "data"
   ]
  },
  {
   "cell_type": "markdown",
   "metadata": {},
   "source": [
    "###### Потеряли часть заказов\n",
    "\n",
    "`how{‘left’, ‘right’, ‘outer’, ‘inner’, ‘cross’}, default ‘inner’`\n"
   ]
  },
  {
   "cell_type": "markdown",
   "metadata": {},
   "source": [
    "###### Попробуем `outer`"
   ]
  },
  {
   "cell_type": "code",
   "execution_count": 30,
   "metadata": {},
   "outputs": [
    {
     "data": {
      "text/html": [
       "<div>\n",
       "<style scoped>\n",
       "    .dataframe tbody tr th:only-of-type {\n",
       "        vertical-align: middle;\n",
       "    }\n",
       "\n",
       "    .dataframe tbody tr th {\n",
       "        vertical-align: top;\n",
       "    }\n",
       "\n",
       "    .dataframe thead th {\n",
       "        text-align: right;\n",
       "    }\n",
       "</style>\n",
       "<table border=\"1\" class=\"dataframe\">\n",
       "  <thead>\n",
       "    <tr style=\"text-align: right;\">\n",
       "      <th></th>\n",
       "      <th>id_x</th>\n",
       "      <th>cl_id</th>\n",
       "      <th>price</th>\n",
       "      <th>discount</th>\n",
       "      <th>status</th>\n",
       "      <th>id_y</th>\n",
       "      <th>city</th>\n",
       "      <th>gender</th>\n",
       "    </tr>\n",
       "  </thead>\n",
       "  <tbody>\n",
       "    <tr>\n",
       "      <td>0</td>\n",
       "      <td>001</td>\n",
       "      <td>12</td>\n",
       "      <td>400.0</td>\n",
       "      <td>0.01</td>\n",
       "      <td>order</td>\n",
       "      <td>12</td>\n",
       "      <td>moscow</td>\n",
       "      <td>f</td>\n",
       "    </tr>\n",
       "    <tr>\n",
       "      <td>1</td>\n",
       "      <td>004</td>\n",
       "      <td>12</td>\n",
       "      <td>150.0</td>\n",
       "      <td>0.00</td>\n",
       "      <td>cansel</td>\n",
       "      <td>12</td>\n",
       "      <td>moscow</td>\n",
       "      <td>f</td>\n",
       "    </tr>\n",
       "    <tr>\n",
       "      <td>2</td>\n",
       "      <td>007</td>\n",
       "      <td>12</td>\n",
       "      <td>300.0</td>\n",
       "      <td>0.00</td>\n",
       "      <td>deliver</td>\n",
       "      <td>12</td>\n",
       "      <td>moscow</td>\n",
       "      <td>f</td>\n",
       "    </tr>\n",
       "    <tr>\n",
       "      <td>3</td>\n",
       "      <td>002</td>\n",
       "      <td>16</td>\n",
       "      <td>200.0</td>\n",
       "      <td>0.00</td>\n",
       "      <td>deliver</td>\n",
       "      <td>NaN</td>\n",
       "      <td>NaN</td>\n",
       "      <td>NaN</td>\n",
       "    </tr>\n",
       "    <tr>\n",
       "      <td>4</td>\n",
       "      <td>003</td>\n",
       "      <td>13</td>\n",
       "      <td>300.0</td>\n",
       "      <td>0.05</td>\n",
       "      <td>done</td>\n",
       "      <td>13</td>\n",
       "      <td>spb</td>\n",
       "      <td>f</td>\n",
       "    </tr>\n",
       "    <tr>\n",
       "      <td>5</td>\n",
       "      <td>008</td>\n",
       "      <td>13</td>\n",
       "      <td>150.0</td>\n",
       "      <td>0.00</td>\n",
       "      <td>done</td>\n",
       "      <td>13</td>\n",
       "      <td>spb</td>\n",
       "      <td>f</td>\n",
       "    </tr>\n",
       "    <tr>\n",
       "      <td>6</td>\n",
       "      <td>005</td>\n",
       "      <td>14</td>\n",
       "      <td>100.0</td>\n",
       "      <td>0.00</td>\n",
       "      <td></td>\n",
       "      <td>14</td>\n",
       "      <td>moscow</td>\n",
       "      <td>m</td>\n",
       "    </tr>\n",
       "    <tr>\n",
       "      <td>7</td>\n",
       "      <td>006</td>\n",
       "      <td>10</td>\n",
       "      <td>200.0</td>\n",
       "      <td>0.01</td>\n",
       "      <td>order</td>\n",
       "      <td>NaN</td>\n",
       "      <td>NaN</td>\n",
       "      <td>NaN</td>\n",
       "    </tr>\n",
       "    <tr>\n",
       "      <td>8</td>\n",
       "      <td>NaN</td>\n",
       "      <td>NaN</td>\n",
       "      <td>NaN</td>\n",
       "      <td>NaN</td>\n",
       "      <td>NaN</td>\n",
       "      <td>11</td>\n",
       "      <td>moscow</td>\n",
       "      <td>m</td>\n",
       "    </tr>\n",
       "    <tr>\n",
       "      <td>9</td>\n",
       "      <td>NaN</td>\n",
       "      <td>NaN</td>\n",
       "      <td>NaN</td>\n",
       "      <td>NaN</td>\n",
       "      <td>NaN</td>\n",
       "      <td>15</td>\n",
       "      <td>spb</td>\n",
       "      <td>f</td>\n",
       "    </tr>\n",
       "  </tbody>\n",
       "</table>\n",
       "</div>"
      ],
      "text/plain": [
       "  id_x cl_id  price  discount   status id_y    city gender\n",
       "0  001    12  400.0      0.01    order   12  moscow      f\n",
       "1  004    12  150.0      0.00   cansel   12  moscow      f\n",
       "2  007    12  300.0      0.00  deliver   12  moscow      f\n",
       "3  002    16  200.0      0.00  deliver  NaN     NaN    NaN\n",
       "4  003    13  300.0      0.05     done   13     spb      f\n",
       "5  008    13  150.0      0.00     done   13     spb      f\n",
       "6  005    14  100.0      0.00            14  moscow      m\n",
       "7  006    10  200.0      0.01    order  NaN     NaN    NaN\n",
       "8  NaN   NaN    NaN       NaN      NaN   11  moscow      m\n",
       "9  NaN   NaN    NaN       NaN      NaN   15     spb      f"
      ]
     },
     "execution_count": 30,
     "metadata": {},
     "output_type": "execute_result"
    }
   ],
   "source": [
    "# объединяем по ключу клиента, outer\n",
    "\n",
    "data = ord.merge(cl, left_on=\"cl_id\", right_on=\"id\", how = 'outer')\n",
    "data"
   ]
  },
  {
   "cell_type": "markdown",
   "metadata": {},
   "source": [
    "###### заказы на месте, но добавились лишние клиенты"
   ]
  },
  {
   "cell_type": "markdown",
   "metadata": {},
   "source": [
    "###### Пробуем `left`"
   ]
  },
  {
   "cell_type": "code",
   "execution_count": 31,
   "metadata": {},
   "outputs": [
    {
     "data": {
      "text/html": [
       "<div>\n",
       "<style scoped>\n",
       "    .dataframe tbody tr th:only-of-type {\n",
       "        vertical-align: middle;\n",
       "    }\n",
       "\n",
       "    .dataframe tbody tr th {\n",
       "        vertical-align: top;\n",
       "    }\n",
       "\n",
       "    .dataframe thead th {\n",
       "        text-align: right;\n",
       "    }\n",
       "</style>\n",
       "<table border=\"1\" class=\"dataframe\">\n",
       "  <thead>\n",
       "    <tr style=\"text-align: right;\">\n",
       "      <th></th>\n",
       "      <th>id_x</th>\n",
       "      <th>cl_id</th>\n",
       "      <th>price</th>\n",
       "      <th>discount</th>\n",
       "      <th>status</th>\n",
       "      <th>id_y</th>\n",
       "      <th>city</th>\n",
       "      <th>gender</th>\n",
       "    </tr>\n",
       "  </thead>\n",
       "  <tbody>\n",
       "    <tr>\n",
       "      <td>0</td>\n",
       "      <td>001</td>\n",
       "      <td>12</td>\n",
       "      <td>400.0</td>\n",
       "      <td>0.01</td>\n",
       "      <td>order</td>\n",
       "      <td>12</td>\n",
       "      <td>moscow</td>\n",
       "      <td>f</td>\n",
       "    </tr>\n",
       "    <tr>\n",
       "      <td>1</td>\n",
       "      <td>002</td>\n",
       "      <td>16</td>\n",
       "      <td>200.0</td>\n",
       "      <td>0.00</td>\n",
       "      <td>deliver</td>\n",
       "      <td>NaN</td>\n",
       "      <td>NaN</td>\n",
       "      <td>NaN</td>\n",
       "    </tr>\n",
       "    <tr>\n",
       "      <td>2</td>\n",
       "      <td>003</td>\n",
       "      <td>13</td>\n",
       "      <td>300.0</td>\n",
       "      <td>0.05</td>\n",
       "      <td>done</td>\n",
       "      <td>13</td>\n",
       "      <td>spb</td>\n",
       "      <td>f</td>\n",
       "    </tr>\n",
       "    <tr>\n",
       "      <td>3</td>\n",
       "      <td>004</td>\n",
       "      <td>12</td>\n",
       "      <td>150.0</td>\n",
       "      <td>0.00</td>\n",
       "      <td>cansel</td>\n",
       "      <td>12</td>\n",
       "      <td>moscow</td>\n",
       "      <td>f</td>\n",
       "    </tr>\n",
       "    <tr>\n",
       "      <td>4</td>\n",
       "      <td>005</td>\n",
       "      <td>14</td>\n",
       "      <td>100.0</td>\n",
       "      <td>0.00</td>\n",
       "      <td></td>\n",
       "      <td>14</td>\n",
       "      <td>moscow</td>\n",
       "      <td>m</td>\n",
       "    </tr>\n",
       "    <tr>\n",
       "      <td>5</td>\n",
       "      <td>006</td>\n",
       "      <td>10</td>\n",
       "      <td>200.0</td>\n",
       "      <td>0.01</td>\n",
       "      <td>order</td>\n",
       "      <td>NaN</td>\n",
       "      <td>NaN</td>\n",
       "      <td>NaN</td>\n",
       "    </tr>\n",
       "    <tr>\n",
       "      <td>6</td>\n",
       "      <td>007</td>\n",
       "      <td>12</td>\n",
       "      <td>300.0</td>\n",
       "      <td>0.00</td>\n",
       "      <td>deliver</td>\n",
       "      <td>12</td>\n",
       "      <td>moscow</td>\n",
       "      <td>f</td>\n",
       "    </tr>\n",
       "    <tr>\n",
       "      <td>7</td>\n",
       "      <td>008</td>\n",
       "      <td>13</td>\n",
       "      <td>150.0</td>\n",
       "      <td>0.00</td>\n",
       "      <td>done</td>\n",
       "      <td>13</td>\n",
       "      <td>spb</td>\n",
       "      <td>f</td>\n",
       "    </tr>\n",
       "  </tbody>\n",
       "</table>\n",
       "</div>"
      ],
      "text/plain": [
       "  id_x cl_id  price  discount   status id_y    city gender\n",
       "0  001    12  400.0      0.01    order   12  moscow      f\n",
       "1  002    16  200.0      0.00  deliver  NaN     NaN    NaN\n",
       "2  003    13  300.0      0.05     done   13     spb      f\n",
       "3  004    12  150.0      0.00   cansel   12  moscow      f\n",
       "4  005    14  100.0      0.00            14  moscow      m\n",
       "5  006    10  200.0      0.01    order  NaN     NaN    NaN\n",
       "6  007    12  300.0      0.00  deliver   12  moscow      f\n",
       "7  008    13  150.0      0.00     done   13     spb      f"
      ]
     },
     "execution_count": 31,
     "metadata": {},
     "output_type": "execute_result"
    }
   ],
   "source": [
    "# объединяем по ключу клиента, left\n",
    "\n",
    "data = ord.merge(cl, left_on=\"cl_id\", right_on=\"id\", how = 'left')\n",
    "data"
   ]
  },
  {
   "cell_type": "markdown",
   "metadata": {},
   "source": [
    "###### Теперь все заказы на меесте, мы обогатили датасет информацией о клиентах"
   ]
  },
  {
   "cell_type": "markdown",
   "metadata": {},
   "source": [
    "### Как растут датасеты"
   ]
  },
  {
   "cell_type": "code",
   "execution_count": 32,
   "metadata": {},
   "outputs": [
    {
     "data": {
      "text/plain": [
       "(5, 3)"
      ]
     },
     "execution_count": 32,
     "metadata": {},
     "output_type": "execute_result"
    }
   ],
   "source": [
    "cl.shape"
   ]
  },
  {
   "cell_type": "code",
   "execution_count": 33,
   "metadata": {},
   "outputs": [
    {
     "data": {
      "text/html": [
       "<div>\n",
       "<style scoped>\n",
       "    .dataframe tbody tr th:only-of-type {\n",
       "        vertical-align: middle;\n",
       "    }\n",
       "\n",
       "    .dataframe tbody tr th {\n",
       "        vertical-align: top;\n",
       "    }\n",
       "\n",
       "    .dataframe thead th {\n",
       "        text-align: right;\n",
       "    }\n",
       "</style>\n",
       "<table border=\"1\" class=\"dataframe\">\n",
       "  <thead>\n",
       "    <tr style=\"text-align: right;\">\n",
       "      <th></th>\n",
       "      <th>id_x</th>\n",
       "      <th>city</th>\n",
       "      <th>gender</th>\n",
       "      <th>id_y</th>\n",
       "      <th>cl_id</th>\n",
       "      <th>price</th>\n",
       "      <th>discount</th>\n",
       "      <th>status</th>\n",
       "    </tr>\n",
       "  </thead>\n",
       "  <tbody>\n",
       "    <tr>\n",
       "      <td>0</td>\n",
       "      <td>11</td>\n",
       "      <td>moscow</td>\n",
       "      <td>m</td>\n",
       "      <td>NaN</td>\n",
       "      <td>NaN</td>\n",
       "      <td>NaN</td>\n",
       "      <td>NaN</td>\n",
       "      <td>NaN</td>\n",
       "    </tr>\n",
       "    <tr>\n",
       "      <td>1</td>\n",
       "      <td>12</td>\n",
       "      <td>moscow</td>\n",
       "      <td>f</td>\n",
       "      <td>001</td>\n",
       "      <td>12</td>\n",
       "      <td>400.0</td>\n",
       "      <td>0.01</td>\n",
       "      <td>order</td>\n",
       "    </tr>\n",
       "    <tr>\n",
       "      <td>2</td>\n",
       "      <td>12</td>\n",
       "      <td>moscow</td>\n",
       "      <td>f</td>\n",
       "      <td>004</td>\n",
       "      <td>12</td>\n",
       "      <td>150.0</td>\n",
       "      <td>0.00</td>\n",
       "      <td>cansel</td>\n",
       "    </tr>\n",
       "    <tr>\n",
       "      <td>3</td>\n",
       "      <td>12</td>\n",
       "      <td>moscow</td>\n",
       "      <td>f</td>\n",
       "      <td>007</td>\n",
       "      <td>12</td>\n",
       "      <td>300.0</td>\n",
       "      <td>0.00</td>\n",
       "      <td>deliver</td>\n",
       "    </tr>\n",
       "    <tr>\n",
       "      <td>4</td>\n",
       "      <td>13</td>\n",
       "      <td>spb</td>\n",
       "      <td>f</td>\n",
       "      <td>003</td>\n",
       "      <td>13</td>\n",
       "      <td>300.0</td>\n",
       "      <td>0.05</td>\n",
       "      <td>done</td>\n",
       "    </tr>\n",
       "    <tr>\n",
       "      <td>5</td>\n",
       "      <td>13</td>\n",
       "      <td>spb</td>\n",
       "      <td>f</td>\n",
       "      <td>008</td>\n",
       "      <td>13</td>\n",
       "      <td>150.0</td>\n",
       "      <td>0.00</td>\n",
       "      <td>done</td>\n",
       "    </tr>\n",
       "    <tr>\n",
       "      <td>6</td>\n",
       "      <td>14</td>\n",
       "      <td>moscow</td>\n",
       "      <td>m</td>\n",
       "      <td>005</td>\n",
       "      <td>14</td>\n",
       "      <td>100.0</td>\n",
       "      <td>0.00</td>\n",
       "      <td></td>\n",
       "    </tr>\n",
       "    <tr>\n",
       "      <td>7</td>\n",
       "      <td>15</td>\n",
       "      <td>spb</td>\n",
       "      <td>f</td>\n",
       "      <td>NaN</td>\n",
       "      <td>NaN</td>\n",
       "      <td>NaN</td>\n",
       "      <td>NaN</td>\n",
       "      <td>NaN</td>\n",
       "    </tr>\n",
       "    <tr>\n",
       "      <td>8</td>\n",
       "      <td>NaN</td>\n",
       "      <td>NaN</td>\n",
       "      <td>NaN</td>\n",
       "      <td>002</td>\n",
       "      <td>16</td>\n",
       "      <td>200.0</td>\n",
       "      <td>0.00</td>\n",
       "      <td>deliver</td>\n",
       "    </tr>\n",
       "    <tr>\n",
       "      <td>9</td>\n",
       "      <td>NaN</td>\n",
       "      <td>NaN</td>\n",
       "      <td>NaN</td>\n",
       "      <td>006</td>\n",
       "      <td>10</td>\n",
       "      <td>200.0</td>\n",
       "      <td>0.01</td>\n",
       "      <td>order</td>\n",
       "    </tr>\n",
       "  </tbody>\n",
       "</table>\n",
       "</div>"
      ],
      "text/plain": [
       "  id_x    city gender id_y cl_id  price  discount   status\n",
       "0   11  moscow      m  NaN   NaN    NaN       NaN      NaN\n",
       "1   12  moscow      f  001    12  400.0      0.01    order\n",
       "2   12  moscow      f  004    12  150.0      0.00   cansel\n",
       "3   12  moscow      f  007    12  300.0      0.00  deliver\n",
       "4   13     spb      f  003    13  300.0      0.05     done\n",
       "5   13     spb      f  008    13  150.0      0.00     done\n",
       "6   14  moscow      m  005    14  100.0      0.00         \n",
       "7   15     spb      f  NaN   NaN    NaN       NaN      NaN\n",
       "8  NaN     NaN    NaN  002    16  200.0      0.00  deliver\n",
       "9  NaN     NaN    NaN  006    10  200.0      0.01    order"
      ]
     },
     "execution_count": 33,
     "metadata": {},
     "output_type": "execute_result"
    }
   ],
   "source": [
    "cl = cl.merge(ord, left_on=\"id\", right_on=\"cl_id\", how = 'outer')\n",
    "cl"
   ]
  },
  {
   "cell_type": "code",
   "execution_count": 34,
   "metadata": {},
   "outputs": [
    {
     "data": {
      "text/plain": [
       "(10, 8)"
      ]
     },
     "execution_count": 34,
     "metadata": {},
     "output_type": "execute_result"
    }
   ],
   "source": [
    "cl.shape"
   ]
  },
  {
   "cell_type": "markdown",
   "metadata": {},
   "source": [
    "1. Агрегируй, потом объединяй\n",
    "2. Сохраняй исходные данные\n",
    "3. Проверяй итог\n",
    "\n"
   ]
  },
  {
   "cell_type": "code",
   "execution_count": 35,
   "metadata": {},
   "outputs": [
    {
     "data": {
      "text/html": [
       "<div>\n",
       "<style scoped>\n",
       "    .dataframe tbody tr th:only-of-type {\n",
       "        vertical-align: middle;\n",
       "    }\n",
       "\n",
       "    .dataframe tbody tr th {\n",
       "        vertical-align: top;\n",
       "    }\n",
       "\n",
       "    .dataframe thead th {\n",
       "        text-align: right;\n",
       "    }\n",
       "</style>\n",
       "<table border=\"1\" class=\"dataframe\">\n",
       "  <thead>\n",
       "    <tr style=\"text-align: right;\">\n",
       "      <th></th>\n",
       "      <th>discount</th>\n",
       "      <th>price</th>\n",
       "    </tr>\n",
       "    <tr>\n",
       "      <th>cl_id</th>\n",
       "      <th></th>\n",
       "      <th></th>\n",
       "    </tr>\n",
       "  </thead>\n",
       "  <tbody>\n",
       "    <tr>\n",
       "      <td>10</td>\n",
       "      <td>0.01</td>\n",
       "      <td>200.0</td>\n",
       "    </tr>\n",
       "    <tr>\n",
       "      <td>12</td>\n",
       "      <td>0.01</td>\n",
       "      <td>850.0</td>\n",
       "    </tr>\n",
       "    <tr>\n",
       "      <td>13</td>\n",
       "      <td>0.05</td>\n",
       "      <td>450.0</td>\n",
       "    </tr>\n",
       "    <tr>\n",
       "      <td>14</td>\n",
       "      <td>0.00</td>\n",
       "      <td>100.0</td>\n",
       "    </tr>\n",
       "    <tr>\n",
       "      <td>16</td>\n",
       "      <td>0.00</td>\n",
       "      <td>200.0</td>\n",
       "    </tr>\n",
       "  </tbody>\n",
       "</table>\n",
       "</div>"
      ],
      "text/plain": [
       "       discount  price\n",
       "cl_id                 \n",
       "10         0.01  200.0\n",
       "12         0.01  850.0\n",
       "13         0.05  450.0\n",
       "14         0.00  100.0\n",
       "16         0.00  200.0"
      ]
     },
     "execution_count": 35,
     "metadata": {},
     "output_type": "execute_result"
    }
   ],
   "source": [
    "ord_group = ord.groupby('cl_id').agg({\"discount\": \"max\", \"price\": \"sum\"})\n",
    "ord_group"
   ]
  },
  {
   "cell_type": "code",
   "execution_count": 49,
   "metadata": {},
   "outputs": [
    {
     "data": {
      "text/html": [
       "<div>\n",
       "<style scoped>\n",
       "    .dataframe tbody tr th:only-of-type {\n",
       "        vertical-align: middle;\n",
       "    }\n",
       "\n",
       "    .dataframe tbody tr th {\n",
       "        vertical-align: top;\n",
       "    }\n",
       "\n",
       "    .dataframe thead th {\n",
       "        text-align: right;\n",
       "    }\n",
       "</style>\n",
       "<table border=\"1\" class=\"dataframe\">\n",
       "  <thead>\n",
       "    <tr style=\"text-align: right;\">\n",
       "      <th></th>\n",
       "      <th>id</th>\n",
       "      <th>city</th>\n",
       "      <th>gender</th>\n",
       "      <th>discount</th>\n",
       "      <th>price</th>\n",
       "    </tr>\n",
       "  </thead>\n",
       "  <tbody>\n",
       "    <tr>\n",
       "      <td>0</td>\n",
       "      <td>11</td>\n",
       "      <td>Moscow</td>\n",
       "      <td>m</td>\n",
       "      <td>NaN</td>\n",
       "      <td>NaN</td>\n",
       "    </tr>\n",
       "    <tr>\n",
       "      <td>1</td>\n",
       "      <td>12</td>\n",
       "      <td>moscow</td>\n",
       "      <td>f</td>\n",
       "      <td>0.01</td>\n",
       "      <td>850.0</td>\n",
       "    </tr>\n",
       "    <tr>\n",
       "      <td>2</td>\n",
       "      <td>13</td>\n",
       "      <td>spb</td>\n",
       "      <td>f</td>\n",
       "      <td>0.05</td>\n",
       "      <td>450.0</td>\n",
       "    </tr>\n",
       "    <tr>\n",
       "      <td>3</td>\n",
       "      <td>14</td>\n",
       "      <td>moscow</td>\n",
       "      <td>M</td>\n",
       "      <td>0.00</td>\n",
       "      <td>100.0</td>\n",
       "    </tr>\n",
       "    <tr>\n",
       "      <td>4</td>\n",
       "      <td>15</td>\n",
       "      <td>SPB</td>\n",
       "      <td>F</td>\n",
       "      <td>NaN</td>\n",
       "      <td>NaN</td>\n",
       "    </tr>\n",
       "  </tbody>\n",
       "</table>\n",
       "</div>"
      ],
      "text/plain": [
       "   id    city gender  discount  price\n",
       "0  11  Moscow      m       NaN    NaN\n",
       "1  12  moscow      f      0.01  850.0\n",
       "2  13     spb      f      0.05  450.0\n",
       "3  14  moscow      M      0.00  100.0\n",
       "4  15     SPB      F       NaN    NaN"
      ]
     },
     "execution_count": 49,
     "metadata": {},
     "output_type": "execute_result"
    }
   ],
   "source": [
    "data = cl.merge(ord_group, left_on=\"id\", right_on=\"cl_id\", how = 'left')\n",
    "data"
   ]
  },
  {
   "cell_type": "markdown",
   "metadata": {},
   "source": [
    "###### Теперь по каждому клиенту понятна сумма покупки и максимальная скидка"
   ]
  },
  {
   "cell_type": "markdown",
   "metadata": {},
   "source": [
    "## Еще варианты объединения\n",
    "\n",
    "### concat\n",
    "### append\n"
   ]
  },
  {
   "cell_type": "code",
   "execution_count": null,
   "metadata": {},
   "outputs": [],
   "source": []
  }
 ],
 "metadata": {
  "colab": {
   "name": "Копия блокнота \"Statistics.ipynb\"",
   "provenance": []
  },
  "kernelspec": {
   "display_name": "Python 3.7.1 64-bit",
   "language": "python",
   "name": "python3"
  },
  "language_info": {
   "codemirror_mode": {
    "name": "ipython",
    "version": 3
   },
   "file_extension": ".py",
   "mimetype": "text/x-python",
   "name": "python",
   "nbconvert_exporter": "python",
   "pygments_lexer": "ipython3",
   "version": "3.7.1"
  },
  "toc": {
   "base_numbering": 1,
   "nav_menu": {},
   "number_sections": true,
   "sideBar": true,
   "skip_h1_title": true,
   "title_cell": "Table of Contents",
   "title_sidebar": "Contents",
   "toc_cell": false,
   "toc_position": {},
   "toc_section_display": true,
   "toc_window_display": false
  },
  "vscode": {
   "interpreter": {
    "hash": "fbe58ca63fe33f9eeae9e71d10368d2b4a57f2b1b395836210cc60d362c66949"
   }
  }
 },
 "nbformat": 4,
 "nbformat_minor": 1
}
