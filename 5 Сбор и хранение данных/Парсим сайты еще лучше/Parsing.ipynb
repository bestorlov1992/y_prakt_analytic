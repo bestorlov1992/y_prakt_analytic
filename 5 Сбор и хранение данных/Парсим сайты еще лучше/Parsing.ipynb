{
 "cells": [
  {
   "cell_type": "code",
   "execution_count": null,
   "metadata": {},
   "outputs": [],
   "source": [
    "import uuid"
   ]
  },
  {
   "cell_type": "code",
   "execution_count": null,
   "metadata": {},
   "outputs": [],
   "source": [
    "user = 'olferuk'\n",
    "password = '123'\n",
    "salt = '-=-=-'\n",
    "\n",
    "\n",
    "user2 = 'mary'\n",
    "password2 = '234'\n"
   ]
  },
  {
   "cell_type": "code",
   "execution_count": null,
   "metadata": {},
   "outputs": [],
   "source": [
    "hash(user + password + salt)"
   ]
  },
  {
   "cell_type": "code",
   "execution_count": null,
   "metadata": {},
   "outputs": [],
   "source": [
    "hash(user2 + password2 + salt)"
   ]
  },
  {
   "cell_type": "markdown",
   "metadata": {},
   "source": [
    "----"
   ]
  },
  {
   "cell_type": "code",
   "execution_count": null,
   "metadata": {},
   "outputs": [],
   "source": [
    "from bs4 import BeautifulSoup\n",
    "import requests\n",
    "\n",
    "import pandas as pd\n",
    "\n",
    "from tqdm.auto import  tqdm\n",
    "\n",
    "from urllib.parse import urljoin\n",
    "\n",
    "import re"
   ]
  },
  {
   "cell_type": "code",
   "execution_count": null,
   "metadata": {},
   "outputs": [],
   "source": [
    "root = 'http://books.toscrape.com/'"
   ]
  },
  {
   "cell_type": "code",
   "execution_count": null,
   "metadata": {},
   "outputs": [],
   "source": [
    "r = requests.get(root)"
   ]
  },
  {
   "cell_type": "code",
   "execution_count": null,
   "metadata": {},
   "outputs": [],
   "source": [
    "r.status_code, r.ok"
   ]
  },
  {
   "cell_type": "code",
   "execution_count": null,
   "metadata": {},
   "outputs": [],
   "source": [
    "soup = BeautifulSoup(r.text)"
   ]
  },
  {
   "cell_type": "code",
   "execution_count": null,
   "metadata": {},
   "outputs": [],
   "source": [
    "def parse_category(x):\n",
    "    return {\n",
    "        'link': f\"http://books.toscrape.com/{x.select_one('a')['href']}\",\n",
    "        'name': x.select_one('a').text.strip(),\n",
    "    }"
   ]
  },
  {
   "cell_type": "code",
   "execution_count": null,
   "metadata": {},
   "outputs": [],
   "source": [
    "categories = pd.DataFrame([parse_category(x) for x in soup.select('ul.nav li')[1:]])"
   ]
  },
  {
   "cell_type": "code",
   "execution_count": null,
   "metadata": {},
   "outputs": [],
   "source": [
    "decode = {\n",
    "    'One': 1,\n",
    "    'Two': 2,\n",
    "    'Three': 3,\n",
    "    'Four': 4,\n",
    "    'Five': 5\n",
    "}\n",
    "\n",
    "data = []\n",
    "for i in tqdm(categories.index):\n",
    "    \n",
    "    theme = categories.loc[i, 'name']\n",
    "    url = categories.loc[i, 'link']\n",
    "    \n",
    "    r = requests.get(url)\n",
    "    soup = BeautifulSoup(r.text)\n",
    "    \n",
    "    articles = soup.select('article.product_pod')\n",
    "    \n",
    "    for article in articles:\n",
    "        title = article.select_one('h3 a').text.strip()\n",
    "        price = article.select_one('p.price_color').text.strip()\n",
    "        is_available = 'In stock' in article.select_one('p.availability').text\n",
    "        stars = article.select_one('p.star-rating')\n",
    "        rating = decode[[x for x in stars['class'] if x != 'star-rating'][0]]\n",
    "        img = urljoin(url, article.select_one('img')['src'])\n",
    "        \n",
    "        data.append({\n",
    "            'title': title,\n",
    "            'price': price,\n",
    "            'is_available': is_available,\n",
    "            'rating': rating,\n",
    "            'img': img,\n",
    "            'theme': theme,\n",
    "        })\n",
    "\n",
    "df = pd.DataFrame(data)\n",
    "\n",
    "df.price = df.price.apply(lambda p: float(re.findall(r'[\\d\\.]+', p)[0]))"
   ]
  },
  {
   "cell_type": "code",
   "execution_count": null,
   "metadata": {},
   "outputs": [],
   "source": [
    "df"
   ]
  },
  {
   "cell_type": "code",
   "execution_count": null,
   "metadata": {},
   "outputs": [],
   "source": []
  }
 ],
 "metadata": {
  "kernelspec": {
   "display_name": "Python 3",
   "language": "python",
   "name": "python3"
  },
  "language_info": {
   "codemirror_mode": {
    "name": "ipython",
    "version": 3
   },
   "file_extension": ".py",
   "mimetype": "text/x-python",
   "name": "python",
   "nbconvert_exporter": "python",
   "pygments_lexer": "ipython3",
   "version": "3.7.4"
  }
 },
 "nbformat": 4,
 "nbformat_minor": 4
}
